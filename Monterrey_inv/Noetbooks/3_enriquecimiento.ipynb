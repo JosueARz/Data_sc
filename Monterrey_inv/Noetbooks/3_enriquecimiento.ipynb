{
 "cells": [
  {
   "cell_type": "code",
   "execution_count": 42,
   "metadata": {},
   "outputs": [],
   "source": [
    "import pandas as pd\n",
    "import numpy as np\n",
    "import matplotlib.pyplot as plt\n",
    "\n",
    "%matplotlib inline"
   ]
  },
  {
   "cell_type": "markdown",
   "metadata": {},
   "source": [
    "## Comenzamos con una expansion de datos que tenemos, fecha"
   ]
  },
  {
   "cell_type": "code",
   "execution_count": 43,
   "metadata": {},
   "outputs": [],
   "source": [
    "compras_df = pd.read_csv('data/compras_marzo_2022.csv')"
   ]
  },
  {
   "cell_type": "code",
   "execution_count": 44,
   "metadata": {},
   "outputs": [
    {
     "data": {
      "text/plain": [
       "CVE BEN           int64\n",
       "BENEFICIARIO     object\n",
       "RFC              object\n",
       "FACTURA          object\n",
       "CONTRATO         object\n",
       "CONCEPTO         object\n",
       "TIPO             object\n",
       "FDO-#OP         float64\n",
       "FECHA\\nPAGO      object\n",
       "IMPORTE         float64\n",
       "SHEET            object\n",
       "dtype: object"
      ]
     },
     "execution_count": 44,
     "metadata": {},
     "output_type": "execute_result"
    }
   ],
   "source": [
    "compras_df.dtypes"
   ]
  },
  {
   "cell_type": "code",
   "execution_count": 45,
   "metadata": {},
   "outputs": [],
   "source": [
    "#convertios la fecha a tiempo\n",
    "compras_df['FECHA\\nPAGO'] = pd.to_datetime(compras_df['FECHA\\nPAGO'])"
   ]
  },
  {
   "cell_type": "code",
   "execution_count": 46,
   "metadata": {},
   "outputs": [],
   "source": [
    "compras_df['Dia'] = compras_df['FECHA\\nPAGO'].apply(lambda x: x.day)\n",
    "compras_df['Mes'] = compras_df['FECHA\\nPAGO'].apply(lambda x: x.month)\n",
    "compras_df['Año'] = compras_df['FECHA\\nPAGO'].apply(lambda x: x.year)"
   ]
  },
  {
   "cell_type": "code",
   "execution_count": 47,
   "metadata": {},
   "outputs": [
    {
     "data": {
      "text/html": [
       "<div>\n",
       "<style scoped>\n",
       "    .dataframe tbody tr th:only-of-type {\n",
       "        vertical-align: middle;\n",
       "    }\n",
       "\n",
       "    .dataframe tbody tr th {\n",
       "        vertical-align: top;\n",
       "    }\n",
       "\n",
       "    .dataframe thead th {\n",
       "        text-align: right;\n",
       "    }\n",
       "</style>\n",
       "<table border=\"1\" class=\"dataframe\">\n",
       "  <thead>\n",
       "    <tr style=\"text-align: right;\">\n",
       "      <th></th>\n",
       "      <th>CVE BEN</th>\n",
       "      <th>BENEFICIARIO</th>\n",
       "      <th>RFC</th>\n",
       "      <th>FACTURA</th>\n",
       "      <th>CONTRATO</th>\n",
       "      <th>CONCEPTO</th>\n",
       "      <th>TIPO</th>\n",
       "      <th>FDO-#OP</th>\n",
       "      <th>FECHA\\nPAGO</th>\n",
       "      <th>IMPORTE</th>\n",
       "      <th>SHEET</th>\n",
       "      <th>Dia</th>\n",
       "      <th>Mes</th>\n",
       "      <th>Año</th>\n",
       "    </tr>\n",
       "  </thead>\n",
       "  <tbody>\n",
       "    <tr>\n",
       "      <th>0</th>\n",
       "      <td>111017</td>\n",
       "      <td>PRAXAIR MEXICO S. DE R.L. DE C.V.</td>\n",
       "      <td>PME960701GG0</td>\n",
       "      <td>FB1179781-183011-215</td>\n",
       "      <td>SAD-638-2021</td>\n",
       "      <td>SUMINISTRO DE OXIGENO, GASES MEDICINALES Y ACC...</td>\n",
       "      <td>TR</td>\n",
       "      <td>1021838.0</td>\n",
       "      <td>2022-03-04</td>\n",
       "      <td>210691.81</td>\n",
       "      <td>GTOS VARIOS</td>\n",
       "      <td>4</td>\n",
       "      <td>3</td>\n",
       "      <td>2022</td>\n",
       "    </tr>\n",
       "    <tr>\n",
       "      <th>1</th>\n",
       "      <td>111017</td>\n",
       "      <td>PRAXAIR MEXICO S. DE R.L. DE C.V.</td>\n",
       "      <td>PME960701GG0</td>\n",
       "      <td>FB1190248-183011-220</td>\n",
       "      <td>SAD-638-2021</td>\n",
       "      <td>SUMINISTRO DE OXIGENO, GASES MEDICINALES Y ACC...</td>\n",
       "      <td>TR</td>\n",
       "      <td>1021838.0</td>\n",
       "      <td>2022-03-04</td>\n",
       "      <td>88044.01</td>\n",
       "      <td>GTOS VARIOS</td>\n",
       "      <td>4</td>\n",
       "      <td>3</td>\n",
       "      <td>2022</td>\n",
       "    </tr>\n",
       "    <tr>\n",
       "      <th>2</th>\n",
       "      <td>111017</td>\n",
       "      <td>PRAXAIR MEXICO S. DE R.L. DE C.V.</td>\n",
       "      <td>PME960701GG0</td>\n",
       "      <td>FB1203206-183011-224</td>\n",
       "      <td>SAD-638-2021</td>\n",
       "      <td>SUMINISTRO DE OXIGENO, GASES MEDICINALES Y ACC...</td>\n",
       "      <td>TR</td>\n",
       "      <td>1021838.0</td>\n",
       "      <td>2022-03-04</td>\n",
       "      <td>871.71</td>\n",
       "      <td>GTOS VARIOS</td>\n",
       "      <td>4</td>\n",
       "      <td>3</td>\n",
       "      <td>2022</td>\n",
       "    </tr>\n",
       "    <tr>\n",
       "      <th>3</th>\n",
       "      <td>111017</td>\n",
       "      <td>PRAXAIR MEXICO S. DE R.L. DE C.V.</td>\n",
       "      <td>PME960701GG0</td>\n",
       "      <td>FB1210915-183011-228</td>\n",
       "      <td>SAD-638-2021</td>\n",
       "      <td>SUMINISTRO DE OXIGENO, GASES MEDICINALES Y ACC...</td>\n",
       "      <td>TR</td>\n",
       "      <td>1021838.0</td>\n",
       "      <td>2022-03-04</td>\n",
       "      <td>143554.60</td>\n",
       "      <td>GTOS VARIOS</td>\n",
       "      <td>4</td>\n",
       "      <td>3</td>\n",
       "      <td>2022</td>\n",
       "    </tr>\n",
       "    <tr>\n",
       "      <th>4</th>\n",
       "      <td>111017</td>\n",
       "      <td>PRAXAIR MEXICO S. DE R.L. DE C.V.</td>\n",
       "      <td>PME960701GG0</td>\n",
       "      <td>FB182281-183011-214</td>\n",
       "      <td>SAD-638-2021</td>\n",
       "      <td>SUMINISTRO DE OXIGENO, GASES MEDICINALES Y ACC...</td>\n",
       "      <td>TR</td>\n",
       "      <td>1021838.0</td>\n",
       "      <td>2022-03-04</td>\n",
       "      <td>871.71</td>\n",
       "      <td>GTOS VARIOS</td>\n",
       "      <td>4</td>\n",
       "      <td>3</td>\n",
       "      <td>2022</td>\n",
       "    </tr>\n",
       "  </tbody>\n",
       "</table>\n",
       "</div>"
      ],
      "text/plain": [
       "   CVE BEN                       BENEFICIARIO           RFC  \\\n",
       "0   111017  PRAXAIR MEXICO S. DE R.L. DE C.V.  PME960701GG0   \n",
       "1   111017  PRAXAIR MEXICO S. DE R.L. DE C.V.  PME960701GG0   \n",
       "2   111017  PRAXAIR MEXICO S. DE R.L. DE C.V.  PME960701GG0   \n",
       "3   111017  PRAXAIR MEXICO S. DE R.L. DE C.V.  PME960701GG0   \n",
       "4   111017  PRAXAIR MEXICO S. DE R.L. DE C.V.  PME960701GG0   \n",
       "\n",
       "                FACTURA      CONTRATO  \\\n",
       "0  FB1179781-183011-215  SAD-638-2021   \n",
       "1  FB1190248-183011-220  SAD-638-2021   \n",
       "2  FB1203206-183011-224  SAD-638-2021   \n",
       "3  FB1210915-183011-228  SAD-638-2021   \n",
       "4   FB182281-183011-214  SAD-638-2021   \n",
       "\n",
       "                                            CONCEPTO TIPO    FDO-#OP  \\\n",
       "0  SUMINISTRO DE OXIGENO, GASES MEDICINALES Y ACC...   TR  1021838.0   \n",
       "1  SUMINISTRO DE OXIGENO, GASES MEDICINALES Y ACC...   TR  1021838.0   \n",
       "2  SUMINISTRO DE OXIGENO, GASES MEDICINALES Y ACC...   TR  1021838.0   \n",
       "3  SUMINISTRO DE OXIGENO, GASES MEDICINALES Y ACC...   TR  1021838.0   \n",
       "4  SUMINISTRO DE OXIGENO, GASES MEDICINALES Y ACC...   TR  1021838.0   \n",
       "\n",
       "  FECHA\\nPAGO    IMPORTE        SHEET  Dia  Mes   Año  \n",
       "0  2022-03-04  210691.81  GTOS VARIOS    4    3  2022  \n",
       "1  2022-03-04   88044.01  GTOS VARIOS    4    3  2022  \n",
       "2  2022-03-04     871.71  GTOS VARIOS    4    3  2022  \n",
       "3  2022-03-04  143554.60  GTOS VARIOS    4    3  2022  \n",
       "4  2022-03-04     871.71  GTOS VARIOS    4    3  2022  "
      ]
     },
     "execution_count": 47,
     "metadata": {},
     "output_type": "execute_result"
    }
   ],
   "source": [
    "compras_df.head()"
   ]
  },
  {
   "cell_type": "markdown",
   "metadata": {},
   "source": [
    "## Proyectamos unas variables contra otras"
   ]
  },
  {
   "cell_type": "code",
   "execution_count": 48,
   "metadata": {},
   "outputs": [],
   "source": [
    "beneficiario_sales = compras_df['BENEFICIARIO'].value_counts().to_dict()"
   ]
  },
  {
   "cell_type": "code",
   "execution_count": 49,
   "metadata": {},
   "outputs": [
    {
     "data": {
      "text/plain": [
       "['CAMARA MEXICANA DE LA INDUSTRIA DE LA CONSTRUCCION',\n",
       " 'NUEVO MERCADO PRESIDENTE BENITO JUAREZ',\n",
       " 'S.I.M.E.P.R.O.D.E.',\n",
       " 'AUTOKAM REGIOMONTANA,S.A.DE C.V.',\n",
       " 'INTERASFALTOS, S.A. DE C.V.']"
      ]
     },
     "execution_count": 49,
     "metadata": {},
     "output_type": "execute_result"
    }
   ],
   "source": [
    "list(beneficiario_sales.keys())[:5]"
   ]
  },
  {
   "cell_type": "code",
   "execution_count": 50,
   "metadata": {},
   "outputs": [],
   "source": [
    "compras_df['BENEFICIARIO_SALES'] = compras_df['BENEFICIARIO'].apply(lambda x: beneficiario_sales[x])"
   ]
  },
  {
   "cell_type": "code",
   "execution_count": 51,
   "metadata": {},
   "outputs": [],
   "source": [
    "sheet_mean_compras = compras_df.groupby('SHEET')['IMPORTE'].mean()"
   ]
  },
  {
   "cell_type": "code",
   "execution_count": 52,
   "metadata": {},
   "outputs": [
    {
     "data": {
      "text/plain": [
       "SHEET\n",
       "GTOS VARIOS                        440975.940759\n",
       "OB.PUBLICA-GTS VARIOS (FDO ESP)    328600.103948\n",
       "SERV PERS                           36521.940169\n",
       "SERV_PROF                          167395.209583\n",
       "Name: IMPORTE, dtype: float64"
      ]
     },
     "execution_count": 52,
     "metadata": {},
     "output_type": "execute_result"
    }
   ],
   "source": [
    "sheet_mean_compras"
   ]
  },
  {
   "cell_type": "code",
   "execution_count": 53,
   "metadata": {},
   "outputs": [],
   "source": [
    "#lo convertimos a diccionario\n",
    "sheet_mean_compras_dict = sheet_mean_compras.to_dict()"
   ]
  },
  {
   "cell_type": "code",
   "execution_count": 54,
   "metadata": {},
   "outputs": [],
   "source": [
    "compras_df['IMPORTE_GATO_PROMEDIO']= compras_df['SHEET'].apply(lambda x: sheet_mean_compras_dict[x])"
   ]
  },
  {
   "cell_type": "code",
   "execution_count": 55,
   "metadata": {},
   "outputs": [],
   "source": [
    "compras_df.to_csv('data/compras_marzo_2022_enriquecido.csv', index=None)"
   ]
  }
 ],
 "metadata": {
  "interpreter": {
   "hash": "b3ba2566441a7c06988d0923437866b63cedc61552a5af99d1f4fb67d367b25f"
  },
  "kernelspec": {
   "display_name": "Python 3.9.7 ('base')",
   "language": "python",
   "name": "python3"
  },
  "language_info": {
   "codemirror_mode": {
    "name": "ipython",
    "version": 3
   },
   "file_extension": ".py",
   "mimetype": "text/x-python",
   "name": "python",
   "nbconvert_exporter": "python",
   "pygments_lexer": "ipython3",
   "version": "3.9.7"
  },
  "orig_nbformat": 4
 },
 "nbformat": 4,
 "nbformat_minor": 2
}
