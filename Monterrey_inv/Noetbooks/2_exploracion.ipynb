{
 "cells": [
  {
   "cell_type": "code",
   "execution_count": 1,
   "metadata": {},
   "outputs": [],
   "source": [
    "import pandas as pd\n",
    "import numpy as np\n",
    "import matplotlib.pyplot as plt\n",
    "import seaborn as sns\n",
    "\n",
    "%matplotlib inline"
   ]
  },
  {
   "cell_type": "code",
   "execution_count": 2,
   "metadata": {},
   "outputs": [],
   "source": [
    "compras_df = pd.read_csv('data/compras_marzo_2022.csv')"
   ]
  },
  {
   "cell_type": "code",
   "execution_count": 3,
   "metadata": {},
   "outputs": [
    {
     "data": {
      "text/html": [
       "<div>\n",
       "<style scoped>\n",
       "    .dataframe tbody tr th:only-of-type {\n",
       "        vertical-align: middle;\n",
       "    }\n",
       "\n",
       "    .dataframe tbody tr th {\n",
       "        vertical-align: top;\n",
       "    }\n",
       "\n",
       "    .dataframe thead th {\n",
       "        text-align: right;\n",
       "    }\n",
       "</style>\n",
       "<table border=\"1\" class=\"dataframe\">\n",
       "  <thead>\n",
       "    <tr style=\"text-align: right;\">\n",
       "      <th></th>\n",
       "      <th>CVE BEN</th>\n",
       "      <th>BENEFICIARIO</th>\n",
       "      <th>RFC</th>\n",
       "      <th>FACTURA</th>\n",
       "      <th>CONTRATO</th>\n",
       "      <th>CONCEPTO</th>\n",
       "      <th>TIPO</th>\n",
       "      <th>FDO-#OP</th>\n",
       "      <th>FECHA\\nPAGO</th>\n",
       "      <th>IMPORTE</th>\n",
       "      <th>SHEET</th>\n",
       "    </tr>\n",
       "  </thead>\n",
       "  <tbody>\n",
       "    <tr>\n",
       "      <th>0</th>\n",
       "      <td>111017</td>\n",
       "      <td>PRAXAIR MEXICO S. DE R.L. DE C.V.</td>\n",
       "      <td>PME960701GG0</td>\n",
       "      <td>FB1179781-183011-215</td>\n",
       "      <td>SAD-638-2021</td>\n",
       "      <td>SUMINISTRO DE OXIGENO, GASES MEDICINALES Y ACC...</td>\n",
       "      <td>TR</td>\n",
       "      <td>1021838.0</td>\n",
       "      <td>2022-03-04</td>\n",
       "      <td>210691.81</td>\n",
       "      <td>GTOS VARIOS</td>\n",
       "    </tr>\n",
       "    <tr>\n",
       "      <th>1</th>\n",
       "      <td>111017</td>\n",
       "      <td>PRAXAIR MEXICO S. DE R.L. DE C.V.</td>\n",
       "      <td>PME960701GG0</td>\n",
       "      <td>FB1190248-183011-220</td>\n",
       "      <td>SAD-638-2021</td>\n",
       "      <td>SUMINISTRO DE OXIGENO, GASES MEDICINALES Y ACC...</td>\n",
       "      <td>TR</td>\n",
       "      <td>1021838.0</td>\n",
       "      <td>2022-03-04</td>\n",
       "      <td>88044.01</td>\n",
       "      <td>GTOS VARIOS</td>\n",
       "    </tr>\n",
       "    <tr>\n",
       "      <th>2</th>\n",
       "      <td>111017</td>\n",
       "      <td>PRAXAIR MEXICO S. DE R.L. DE C.V.</td>\n",
       "      <td>PME960701GG0</td>\n",
       "      <td>FB1203206-183011-224</td>\n",
       "      <td>SAD-638-2021</td>\n",
       "      <td>SUMINISTRO DE OXIGENO, GASES MEDICINALES Y ACC...</td>\n",
       "      <td>TR</td>\n",
       "      <td>1021838.0</td>\n",
       "      <td>2022-03-04</td>\n",
       "      <td>871.71</td>\n",
       "      <td>GTOS VARIOS</td>\n",
       "    </tr>\n",
       "    <tr>\n",
       "      <th>3</th>\n",
       "      <td>111017</td>\n",
       "      <td>PRAXAIR MEXICO S. DE R.L. DE C.V.</td>\n",
       "      <td>PME960701GG0</td>\n",
       "      <td>FB1210915-183011-228</td>\n",
       "      <td>SAD-638-2021</td>\n",
       "      <td>SUMINISTRO DE OXIGENO, GASES MEDICINALES Y ACC...</td>\n",
       "      <td>TR</td>\n",
       "      <td>1021838.0</td>\n",
       "      <td>2022-03-04</td>\n",
       "      <td>143554.60</td>\n",
       "      <td>GTOS VARIOS</td>\n",
       "    </tr>\n",
       "    <tr>\n",
       "      <th>4</th>\n",
       "      <td>111017</td>\n",
       "      <td>PRAXAIR MEXICO S. DE R.L. DE C.V.</td>\n",
       "      <td>PME960701GG0</td>\n",
       "      <td>FB182281-183011-214</td>\n",
       "      <td>SAD-638-2021</td>\n",
       "      <td>SUMINISTRO DE OXIGENO, GASES MEDICINALES Y ACC...</td>\n",
       "      <td>TR</td>\n",
       "      <td>1021838.0</td>\n",
       "      <td>2022-03-04</td>\n",
       "      <td>871.71</td>\n",
       "      <td>GTOS VARIOS</td>\n",
       "    </tr>\n",
       "  </tbody>\n",
       "</table>\n",
       "</div>"
      ],
      "text/plain": [
       "   CVE BEN                       BENEFICIARIO           RFC  \\\n",
       "0   111017  PRAXAIR MEXICO S. DE R.L. DE C.V.  PME960701GG0   \n",
       "1   111017  PRAXAIR MEXICO S. DE R.L. DE C.V.  PME960701GG0   \n",
       "2   111017  PRAXAIR MEXICO S. DE R.L. DE C.V.  PME960701GG0   \n",
       "3   111017  PRAXAIR MEXICO S. DE R.L. DE C.V.  PME960701GG0   \n",
       "4   111017  PRAXAIR MEXICO S. DE R.L. DE C.V.  PME960701GG0   \n",
       "\n",
       "                FACTURA      CONTRATO  \\\n",
       "0  FB1179781-183011-215  SAD-638-2021   \n",
       "1  FB1190248-183011-220  SAD-638-2021   \n",
       "2  FB1203206-183011-224  SAD-638-2021   \n",
       "3  FB1210915-183011-228  SAD-638-2021   \n",
       "4   FB182281-183011-214  SAD-638-2021   \n",
       "\n",
       "                                            CONCEPTO TIPO    FDO-#OP  \\\n",
       "0  SUMINISTRO DE OXIGENO, GASES MEDICINALES Y ACC...   TR  1021838.0   \n",
       "1  SUMINISTRO DE OXIGENO, GASES MEDICINALES Y ACC...   TR  1021838.0   \n",
       "2  SUMINISTRO DE OXIGENO, GASES MEDICINALES Y ACC...   TR  1021838.0   \n",
       "3  SUMINISTRO DE OXIGENO, GASES MEDICINALES Y ACC...   TR  1021838.0   \n",
       "4  SUMINISTRO DE OXIGENO, GASES MEDICINALES Y ACC...   TR  1021838.0   \n",
       "\n",
       "  FECHA\\nPAGO    IMPORTE        SHEET  \n",
       "0  2022-03-04  210691.81  GTOS VARIOS  \n",
       "1  2022-03-04   88044.01  GTOS VARIOS  \n",
       "2  2022-03-04     871.71  GTOS VARIOS  \n",
       "3  2022-03-04  143554.60  GTOS VARIOS  \n",
       "4  2022-03-04     871.71  GTOS VARIOS  "
      ]
     },
     "execution_count": 3,
     "metadata": {},
     "output_type": "execute_result"
    }
   ],
   "source": [
    "compras_df.head()"
   ]
  },
  {
   "cell_type": "code",
   "execution_count": 4,
   "metadata": {},
   "outputs": [
    {
     "data": {
      "text/plain": [
       "(1939, 11)"
      ]
     },
     "execution_count": 4,
     "metadata": {},
     "output_type": "execute_result"
    }
   ],
   "source": [
    "compras_df.shape"
   ]
  },
  {
   "cell_type": "markdown",
   "metadata": {},
   "source": [
    "## Visión general de los datos"
   ]
  },
  {
   "cell_type": "code",
   "execution_count": 5,
   "metadata": {},
   "outputs": [
    {
     "data": {
      "text/plain": [
       "Index(['CVE BEN', 'BENEFICIARIO', 'RFC', 'FACTURA', 'CONTRATO', 'CONCEPTO',\n",
       "       'TIPO', 'FDO-#OP', 'FECHA\\nPAGO', 'IMPORTE', 'SHEET'],\n",
       "      dtype='object')"
      ]
     },
     "execution_count": 5,
     "metadata": {},
     "output_type": "execute_result"
    }
   ],
   "source": [
    "# Conocemos las columnas que tenemos\n",
    "compras_df.columns"
   ]
  },
  {
   "cell_type": "code",
   "execution_count": 6,
   "metadata": {},
   "outputs": [
    {
     "data": {
      "text/plain": [
       "CVE BEN           int64\n",
       "BENEFICIARIO     object\n",
       "RFC              object\n",
       "FACTURA          object\n",
       "CONTRATO         object\n",
       "CONCEPTO         object\n",
       "TIPO             object\n",
       "FDO-#OP         float64\n",
       "FECHA\\nPAGO      object\n",
       "IMPORTE         float64\n",
       "SHEET            object\n",
       "dtype: object"
      ]
     },
     "execution_count": 6,
     "metadata": {},
     "output_type": "execute_result"
    }
   ],
   "source": [
    "#verificamos el tipo de datos que tenemos\n",
    "compras_df.dtypes"
   ]
  },
  {
   "cell_type": "code",
   "execution_count": 7,
   "metadata": {},
   "outputs": [],
   "source": [
    "# Cambiamos el formato de la fecha para que este en formato de fecha\n",
    "compras_df['FECHA\\nPAGO'] = pd.to_datetime(compras_df['FECHA\\nPAGO'])"
   ]
  },
  {
   "cell_type": "code",
   "execution_count": 8,
   "metadata": {},
   "outputs": [
    {
     "data": {
      "text/plain": [
       "CVE BEN                  int64\n",
       "BENEFICIARIO            object\n",
       "RFC                     object\n",
       "FACTURA                 object\n",
       "CONTRATO                object\n",
       "CONCEPTO                object\n",
       "TIPO                    object\n",
       "FDO-#OP                float64\n",
       "FECHA\\nPAGO     datetime64[ns]\n",
       "IMPORTE                float64\n",
       "SHEET                   object\n",
       "dtype: object"
      ]
     },
     "execution_count": 8,
     "metadata": {},
     "output_type": "execute_result"
    }
   ],
   "source": [
    "#verificamos nuevamente los tipos de datos \n",
    "compras_df.dtypes"
   ]
  },
  {
   "cell_type": "code",
   "execution_count": 9,
   "metadata": {},
   "outputs": [
    {
     "data": {
      "text/html": [
       "<div>\n",
       "<style scoped>\n",
       "    .dataframe tbody tr th:only-of-type {\n",
       "        vertical-align: middle;\n",
       "    }\n",
       "\n",
       "    .dataframe tbody tr th {\n",
       "        vertical-align: top;\n",
       "    }\n",
       "\n",
       "    .dataframe thead th {\n",
       "        text-align: right;\n",
       "    }\n",
       "</style>\n",
       "<table border=\"1\" class=\"dataframe\">\n",
       "  <thead>\n",
       "    <tr style=\"text-align: right;\">\n",
       "      <th></th>\n",
       "      <th>CVE BEN</th>\n",
       "      <th>FDO-#OP</th>\n",
       "      <th>IMPORTE</th>\n",
       "    </tr>\n",
       "  </thead>\n",
       "  <tbody>\n",
       "    <tr>\n",
       "      <th>count</th>\n",
       "      <td>1939.000000</td>\n",
       "      <td>1.939000e+03</td>\n",
       "      <td>1.939000e+03</td>\n",
       "    </tr>\n",
       "    <tr>\n",
       "      <th>mean</th>\n",
       "      <td>192793.269211</td>\n",
       "      <td>1.360590e+08</td>\n",
       "      <td>3.295176e+05</td>\n",
       "    </tr>\n",
       "    <tr>\n",
       "      <th>std</th>\n",
       "      <td>84286.998651</td>\n",
       "      <td>1.591105e+08</td>\n",
       "      <td>1.585042e+06</td>\n",
       "    </tr>\n",
       "    <tr>\n",
       "      <th>min</th>\n",
       "      <td>110036.000000</td>\n",
       "      <td>1.021791e+06</td>\n",
       "      <td>3.110000e+00</td>\n",
       "    </tr>\n",
       "    <tr>\n",
       "      <th>25%</th>\n",
       "      <td>115395.000000</td>\n",
       "      <td>1.021942e+06</td>\n",
       "      <td>2.711250e+03</td>\n",
       "    </tr>\n",
       "    <tr>\n",
       "      <th>50%</th>\n",
       "      <td>203013.000000</td>\n",
       "      <td>1.107349e+06</td>\n",
       "      <td>1.294560e+04</td>\n",
       "    </tr>\n",
       "    <tr>\n",
       "      <th>75%</th>\n",
       "      <td>311250.000000</td>\n",
       "      <td>3.170003e+08</td>\n",
       "      <td>7.171800e+04</td>\n",
       "    </tr>\n",
       "    <tr>\n",
       "      <th>max</th>\n",
       "      <td>370012.000000</td>\n",
       "      <td>6.040001e+08</td>\n",
       "      <td>3.186801e+07</td>\n",
       "    </tr>\n",
       "  </tbody>\n",
       "</table>\n",
       "</div>"
      ],
      "text/plain": [
       "             CVE BEN       FDO-#OP       IMPORTE\n",
       "count    1939.000000  1.939000e+03  1.939000e+03\n",
       "mean   192793.269211  1.360590e+08  3.295176e+05\n",
       "std     84286.998651  1.591105e+08  1.585042e+06\n",
       "min    110036.000000  1.021791e+06  3.110000e+00\n",
       "25%    115395.000000  1.021942e+06  2.711250e+03\n",
       "50%    203013.000000  1.107349e+06  1.294560e+04\n",
       "75%    311250.000000  3.170003e+08  7.171800e+04\n",
       "max    370012.000000  6.040001e+08  3.186801e+07"
      ]
     },
     "execution_count": 9,
     "metadata": {},
     "output_type": "execute_result"
    }
   ],
   "source": [
    "# Podemos ver lgunas propiedades estadisticas de las variables numericas\n",
    "compras_df.describe()"
   ]
  },
  {
   "cell_type": "code",
   "execution_count": 10,
   "metadata": {},
   "outputs": [],
   "source": [
    "#elegimos las variables con las que vamos a trabajar\n",
    "compras_df= compras_df[['BENEFICIARIO', 'FACTURA', 'CONTRATO', 'CONCEPTO',\n",
    "       'TIPO', 'FDO-#OP', 'FECHA\\nPAGO', 'IMPORTE', 'SHEET']]"
   ]
  },
  {
   "cell_type": "markdown",
   "metadata": {},
   "source": [
    "## Análisis unidimensional de las variables"
   ]
  },
  {
   "cell_type": "code",
   "execution_count": 11,
   "metadata": {},
   "outputs": [
    {
     "data": {
      "text/plain": [
       "GTOS VARIOS                        817\n",
       "OB.PUBLICA-GTS VARIOS (FDO ESP)    803\n",
       "SERV PERS                          295\n",
       "SERV_PROF                           24\n",
       "Name: SHEET, dtype: int64"
      ]
     },
     "execution_count": 11,
     "metadata": {},
     "output_type": "execute_result"
    }
   ],
   "source": [
    "compras_df['SHEET'].value_counts()"
   ]
  },
  {
   "cell_type": "code",
   "execution_count": 12,
   "metadata": {},
   "outputs": [
    {
     "data": {
      "text/plain": [
       "SERVICIO DE CONFINAMIENTO DE RESIDUOS URBANOS DEL MUNICIPIO DE MONTERREY DEL PERIODO DEL 11 AL 17 DE OCTUBRE DE 2021      12\n",
       "SERVICIO DE CONFINAMIENTO DE RESIDUOS URBANOS DEL MUNICIPIO DE MONTERREY DEL PERIODO DEL 25 AL 28 DE OCTUBRE DE 2021      11\n",
       "SERVICIO DE CONFINAMIENTO DE RESIDUOS URBANOS DEL MUNICIPIO DE MONTERREY DEL PERIODO DEL 29 AL 31 DE OCTUBRE DE 2021      11\n",
       "SERVICIO DE CONFINAMIENTO DE RESIDUOS URBANOS DEL MUNICIPIO DE MONTERREY DEL PERIODO DEL 01 AL 07 DE NOVIEMBRE DE 2021    11\n",
       "SERVICIO DE CONFINAMIENTO DE RESIDUOS URBANOS DEL MUNICIPIO DE MONTERREY DEL PERIODO DEL 08 AL 14 DE NOVIEMBRE DE 2021    11\n",
       "                                                                                                                          ..\n",
       "SEPTIMO EXTRAORDINARIO REEMBOLSO FONDO OP. DEL OP. IMP PREDIAL 2022                                                        1\n",
       "REEMBOLSO DE CAJA CHICA MES DE FEBRERO 2022                                                                                1\n",
       "QUINTO EXTRAORDINARIO REEMBOLSO FONDO OPERATIVO DEL OPERATIVO IMPUESTO PREDIAL 2022                                        1\n",
       "REEMBOLSO CAJA CHICA MES DE ENERO 2022                                                                                     1\n",
       "PAGO DE ACUERDO PRODEFUNCION SVT 1A. DICIEMBRE (POR FALLECIMIENTO C. MARIA CARDONA  MENDOZA)                               1\n",
       "Name: CONCEPTO, Length: 1652, dtype: int64"
      ]
     },
     "execution_count": 12,
     "metadata": {},
     "output_type": "execute_result"
    }
   ],
   "source": [
    "compras_df['CONCEPTO'].value_counts()"
   ]
  },
  {
   "cell_type": "code",
   "execution_count": 13,
   "metadata": {},
   "outputs": [
    {
     "data": {
      "text/plain": [
       "array(['SUMINISTRO DE OXIGENO, GASES MEDICINALES Y ACCESORIOS, AGOSTO DEL 2021',\n",
       "       'SUMINISTRO DE OXIGENO, GASES MEDICINALES Y ACCESORIOS, SEPTIEMBRE DEL 2021',\n",
       "       'SUMINISTRO DE OXIGENO, GASES MEDICINALES Y ACCESORIOS, NOVIEMBRE DEL 2021',\n",
       "       ...,\n",
       "       'PAGO DE APOYO ESCOLAR DEL C. JOSE LUIS GARZA ALVARADO NOMINA 20887',\n",
       "       'FONDO DE PENSION 110733',\n",
       "       'PAGO DE ACUERDO PRODEFUNCION SVT 1A. DICIEMBRE (POR FALLECIMIENTO C. MARIA CARDONA  MENDOZA)'],\n",
       "      dtype=object)"
      ]
     },
     "execution_count": 13,
     "metadata": {},
     "output_type": "execute_result"
    }
   ],
   "source": [
    "compras_df['CONCEPTO'].unique()"
   ]
  },
  {
   "cell_type": "code",
   "execution_count": 14,
   "metadata": {},
   "outputs": [
    {
     "data": {
      "text/plain": [
       "CAMARA MEXICANA DE LA INDUSTRIA DE LA CONSTRUCCION    216\n",
       "NUEVO MERCADO PRESIDENTE BENITO JUAREZ                149\n",
       "S.I.M.E.P.R.O.D.E.                                    114\n",
       "AUTOKAM REGIOMONTANA,S.A.DE C.V.                       61\n",
       "INTERASFALTOS, S.A. DE C.V.                            51\n",
       "                                                     ... \n",
       "NEVAREZ MONTALVO JOSE ALEJANDRO                         1\n",
       "HERNANDEZ CRUZ FIDEL                                    1\n",
       "HERNANDEZ DE LA ROSA MAGALY YADIRA                      1\n",
       "NAVARRO YZABAL SERGIO SIMON                             1\n",
       "ZEPEDA CARDONA LAURA AMPARO                             1\n",
       "Name: BENEFICIARIO, Length: 470, dtype: int64"
      ]
     },
     "execution_count": 14,
     "metadata": {},
     "output_type": "execute_result"
    }
   ],
   "source": [
    "#Proceemos a ver cuantas facturas o pagos ha hecho cada proveedor\n",
    "compras_df['BENEFICIARIO'].value_counts()"
   ]
  },
  {
   "cell_type": "code",
   "execution_count": 15,
   "metadata": {},
   "outputs": [
    {
     "data": {
      "text/plain": [
       "100.00      37\n",
       "794.99      21\n",
       "1200.00     17\n",
       "1494.98     17\n",
       "624.98      15\n",
       "            ..\n",
       "26680.00     1\n",
       "21042.40     1\n",
       "16475.48     1\n",
       "60532.28     1\n",
       "6328.57      1\n",
       "Name: IMPORTE, Length: 1579, dtype: int64"
      ]
     },
     "execution_count": 15,
     "metadata": {},
     "output_type": "execute_result"
    }
   ],
   "source": [
    "compras_df['IMPORTE'].value_counts()"
   ]
  },
  {
   "cell_type": "code",
   "execution_count": 16,
   "metadata": {},
   "outputs": [
    {
     "data": {
      "text/plain": [
       "<AxesSubplot:>"
      ]
     },
     "execution_count": 16,
     "metadata": {},
     "output_type": "execute_result"
    },
    {
     "data": {
      "image/png": "[encoded data removed]",
      "text/plain": [
       "<Figure size 432x288 with 1 Axes>"
      ]
     },
     "metadata": {
      "needs_background": "light"
     },
     "output_type": "display_data"
    }
   ],
   "source": [
    "compras_df['IMPORTE'].hist(bins=20)"
   ]
  },
  {
   "cell_type": "code",
   "execution_count": 17,
   "metadata": {},
   "outputs": [
    {
     "data": {
      "text/plain": [
       "<AxesSubplot:>"
      ]
     },
     "execution_count": 17,
     "metadata": {},
     "output_type": "execute_result"
    },
    {
     "data": {
      "image/png": "[encoded data removed]",
      "text/plain": [
       "<Figure size 432x288 with 1 Axes>"
      ]
     },
     "metadata": {
      "needs_background": "light"
     },
     "output_type": "display_data"
    }
   ],
   "source": [
    "compras_df[compras_df['IMPORTE'] < compras_df['IMPORTE'].quantile(0.95)]['IMPORTE'].hist(bins=20)"
   ]
  },
  {
   "cell_type": "code",
   "execution_count": 18,
   "metadata": {},
   "outputs": [
    {
     "data": {
      "text/plain": [
       "<AxesSubplot:>"
      ]
     },
     "execution_count": 18,
     "metadata": {},
     "output_type": "execute_result"
    },
    {
     "data": {
      "image/png": "[encoded data removed]",
      "text/plain": [
       "<Figure size 432x288 with 1 Axes>"
      ]
     },
     "metadata": {
      "needs_background": "light"
     },
     "output_type": "display_data"
    }
   ],
   "source": [
    "compras_df[compras_df['IMPORTE'] < compras_df['IMPORTE'].quantile(0.95)]['IMPORTE'].hist(bins=50)"
   ]
  },
  {
   "cell_type": "markdown",
   "metadata": {},
   "source": [
    "La mayoria de los pagos o gastos son menore a 0.50e+06\n"
   ]
  },
  {
   "cell_type": "markdown",
   "metadata": {},
   "source": [
    "## Análisis multidimensional de las variables"
   ]
  },
  {
   "cell_type": "code",
   "execution_count": 19,
   "metadata": {},
   "outputs": [],
   "source": [
    "#veamos cuales son los provedores o beneficiarios con mayores pagos\n",
    "sum_importe_beneficiario = compras_df.groupby('BENEFICIARIO')['IMPORTE'].sum()"
   ]
  },
  {
   "cell_type": "code",
   "execution_count": 20,
   "metadata": {},
   "outputs": [
    {
     "data": {
      "text/plain": [
       "BENEFICIARIO\n",
       "2814 INMUEBLES S. DE R.L. DE C.V.                24896.00\n",
       "ABUNDIS  ALBERTO                                 48780.00\n",
       "ACUÑA RODRIGUEZ SAMUEL ABRAHAM                   37892.96\n",
       "ADK CONSTRUCCIONES, SA. DE CV.                  791402.13\n",
       "ADMON DE PROY Y SERVICIOS EN CONDOMINIO, SC.    339702.69\n",
       "                                                  ...    \n",
       "VILLARREAL BARBARIN WILBUR JARIM                163902.16\n",
       "VILLARREAL LOPEZ TERESA ELIZABETH                 5150.00\n",
       "ZAPATA CHAVIRA HOMERO ARTURO                     56700.00\n",
       "ZAVALA SANTILLAN MOISES                          19314.22\n",
       "ZEPEDA CARDONA LAURA AMPARO                       6328.57\n",
       "Name: IMPORTE, Length: 470, dtype: float64"
      ]
     },
     "execution_count": 20,
     "metadata": {},
     "output_type": "execute_result"
    }
   ],
   "source": [
    "sum_importe_beneficiario"
   ]
  },
  {
   "cell_type": "code",
   "execution_count": 21,
   "metadata": {},
   "outputs": [
    {
     "data": {
      "text/html": [
       "<div>\n",
       "<style scoped>\n",
       "    .dataframe tbody tr th:only-of-type {\n",
       "        vertical-align: middle;\n",
       "    }\n",
       "\n",
       "    .dataframe tbody tr th {\n",
       "        vertical-align: top;\n",
       "    }\n",
       "\n",
       "    .dataframe thead th {\n",
       "        text-align: right;\n",
       "    }\n",
       "</style>\n",
       "<table border=\"1\" class=\"dataframe\">\n",
       "  <thead>\n",
       "    <tr style=\"text-align: right;\">\n",
       "      <th></th>\n",
       "      <th>BENEFICIARIO</th>\n",
       "      <th>IMPORTE</th>\n",
       "    </tr>\n",
       "  </thead>\n",
       "  <tbody>\n",
       "    <tr>\n",
       "      <th>0</th>\n",
       "      <td>2814 INMUEBLES S. DE R.L. DE C.V.</td>\n",
       "      <td>24896.00</td>\n",
       "    </tr>\n",
       "    <tr>\n",
       "      <th>1</th>\n",
       "      <td>ABUNDIS  ALBERTO</td>\n",
       "      <td>48780.00</td>\n",
       "    </tr>\n",
       "    <tr>\n",
       "      <th>2</th>\n",
       "      <td>ACUÑA RODRIGUEZ SAMUEL ABRAHAM</td>\n",
       "      <td>37892.96</td>\n",
       "    </tr>\n",
       "    <tr>\n",
       "      <th>3</th>\n",
       "      <td>ADK CONSTRUCCIONES, SA. DE CV.</td>\n",
       "      <td>791402.13</td>\n",
       "    </tr>\n",
       "    <tr>\n",
       "      <th>4</th>\n",
       "      <td>ADMON DE PROY Y SERVICIOS EN CONDOMINIO, SC.</td>\n",
       "      <td>339702.69</td>\n",
       "    </tr>\n",
       "    <tr>\n",
       "      <th>...</th>\n",
       "      <td>...</td>\n",
       "      <td>...</td>\n",
       "    </tr>\n",
       "    <tr>\n",
       "      <th>465</th>\n",
       "      <td>VILLARREAL BARBARIN WILBUR JARIM</td>\n",
       "      <td>163902.16</td>\n",
       "    </tr>\n",
       "    <tr>\n",
       "      <th>466</th>\n",
       "      <td>VILLARREAL LOPEZ TERESA ELIZABETH</td>\n",
       "      <td>5150.00</td>\n",
       "    </tr>\n",
       "    <tr>\n",
       "      <th>467</th>\n",
       "      <td>ZAPATA CHAVIRA HOMERO ARTURO</td>\n",
       "      <td>56700.00</td>\n",
       "    </tr>\n",
       "    <tr>\n",
       "      <th>468</th>\n",
       "      <td>ZAVALA SANTILLAN MOISES</td>\n",
       "      <td>19314.22</td>\n",
       "    </tr>\n",
       "    <tr>\n",
       "      <th>469</th>\n",
       "      <td>ZEPEDA CARDONA LAURA AMPARO</td>\n",
       "      <td>6328.57</td>\n",
       "    </tr>\n",
       "  </tbody>\n",
       "</table>\n",
       "<p>470 rows × 2 columns</p>\n",
       "</div>"
      ],
      "text/plain": [
       "                                     BENEFICIARIO    IMPORTE\n",
       "0               2814 INMUEBLES S. DE R.L. DE C.V.   24896.00\n",
       "1                                ABUNDIS  ALBERTO   48780.00\n",
       "2                  ACUÑA RODRIGUEZ SAMUEL ABRAHAM   37892.96\n",
       "3                  ADK CONSTRUCCIONES, SA. DE CV.  791402.13\n",
       "4    ADMON DE PROY Y SERVICIOS EN CONDOMINIO, SC.  339702.69\n",
       "..                                            ...        ...\n",
       "465              VILLARREAL BARBARIN WILBUR JARIM  163902.16\n",
       "466             VILLARREAL LOPEZ TERESA ELIZABETH    5150.00\n",
       "467                  ZAPATA CHAVIRA HOMERO ARTURO   56700.00\n",
       "468                       ZAVALA SANTILLAN MOISES   19314.22\n",
       "469                   ZEPEDA CARDONA LAURA AMPARO    6328.57\n",
       "\n",
       "[470 rows x 2 columns]"
      ]
     },
     "execution_count": 21,
     "metadata": {},
     "output_type": "execute_result"
    }
   ],
   "source": [
    "#le aplicamos indices para una mejor presentacion y manejo\n",
    "sum_importe_beneficiario.reset_index()"
   ]
  },
  {
   "cell_type": "code",
   "execution_count": 22,
   "metadata": {},
   "outputs": [
    {
     "data": {
      "text/html": [
       "<div>\n",
       "<style scoped>\n",
       "    .dataframe tbody tr th:only-of-type {\n",
       "        vertical-align: middle;\n",
       "    }\n",
       "\n",
       "    .dataframe tbody tr th {\n",
       "        vertical-align: top;\n",
       "    }\n",
       "\n",
       "    .dataframe thead th {\n",
       "        text-align: right;\n",
       "    }\n",
       "</style>\n",
       "<table border=\"1\" class=\"dataframe\">\n",
       "  <thead>\n",
       "    <tr style=\"text-align: right;\">\n",
       "      <th></th>\n",
       "      <th>BENEFICIARIO</th>\n",
       "      <th>IMPORTE</th>\n",
       "    </tr>\n",
       "  </thead>\n",
       "  <tbody>\n",
       "    <tr>\n",
       "      <th>301</th>\n",
       "      <td>MUNICIPIO DE LA CIUDAD DE MONTERREY</td>\n",
       "      <td>1.049967e+08</td>\n",
       "    </tr>\n",
       "    <tr>\n",
       "      <th>364</th>\n",
       "      <td>RED RECOLECTOR, S.A. DE C.V.</td>\n",
       "      <td>6.508988e+07</td>\n",
       "    </tr>\n",
       "    <tr>\n",
       "      <th>214</th>\n",
       "      <td>HISA FARMACEUTICA, S.A. DE C.V.</td>\n",
       "      <td>3.078226e+07</td>\n",
       "    </tr>\n",
       "    <tr>\n",
       "      <th>226</th>\n",
       "      <td>INDUSTRIAS SOLA BASIC, S.A. DE C.V.</td>\n",
       "      <td>2.570800e+07</td>\n",
       "    </tr>\n",
       "    <tr>\n",
       "      <th>146</th>\n",
       "      <td>FOJA INGENIEROS CONSTRUCTORES, SA. DE CV.</td>\n",
       "      <td>2.558035e+07</td>\n",
       "    </tr>\n",
       "    <tr>\n",
       "      <th>...</th>\n",
       "      <td>...</td>\n",
       "      <td>...</td>\n",
       "    </tr>\n",
       "    <tr>\n",
       "      <th>171</th>\n",
       "      <td>GERARDO QUEZADA GRACIELA</td>\n",
       "      <td>5.000000e+02</td>\n",
       "    </tr>\n",
       "    <tr>\n",
       "      <th>150</th>\n",
       "      <td>GAMA HERNANDEZ JAIME CHRISTIAN</td>\n",
       "      <td>1.872000e+02</td>\n",
       "    </tr>\n",
       "    <tr>\n",
       "      <th>441</th>\n",
       "      <td>TESORERIA DE LA FEDERACION</td>\n",
       "      <td>1.840000e+02</td>\n",
       "    </tr>\n",
       "    <tr>\n",
       "      <th>227</th>\n",
       "      <td>INFONACOT</td>\n",
       "      <td>1.508900e+02</td>\n",
       "    </tr>\n",
       "    <tr>\n",
       "      <th>127</th>\n",
       "      <td>DUEÑAS VAZQUEZ MARIBEL</td>\n",
       "      <td>7.313000e+01</td>\n",
       "    </tr>\n",
       "  </tbody>\n",
       "</table>\n",
       "<p>470 rows × 2 columns</p>\n",
       "</div>"
      ],
      "text/plain": [
       "                                  BENEFICIARIO       IMPORTE\n",
       "301        MUNICIPIO DE LA CIUDAD DE MONTERREY  1.049967e+08\n",
       "364               RED RECOLECTOR, S.A. DE C.V.  6.508988e+07\n",
       "214            HISA FARMACEUTICA, S.A. DE C.V.  3.078226e+07\n",
       "226        INDUSTRIAS SOLA BASIC, S.A. DE C.V.  2.570800e+07\n",
       "146  FOJA INGENIEROS CONSTRUCTORES, SA. DE CV.  2.558035e+07\n",
       "..                                         ...           ...\n",
       "171                   GERARDO QUEZADA GRACIELA  5.000000e+02\n",
       "150             GAMA HERNANDEZ JAIME CHRISTIAN  1.872000e+02\n",
       "441                 TESORERIA DE LA FEDERACION  1.840000e+02\n",
       "227                                  INFONACOT  1.508900e+02\n",
       "127                     DUEÑAS VAZQUEZ MARIBEL  7.313000e+01\n",
       "\n",
       "[470 rows x 2 columns]"
      ]
     },
     "execution_count": 22,
     "metadata": {},
     "output_type": "execute_result"
    }
   ],
   "source": [
    "#aplicamos un sort para ordenar los valores de mayor a menor\n",
    "sum_importe_beneficiario.reset_index().sort_values(by='IMPORTE', ascending=False)"
   ]
  },
  {
   "cell_type": "code",
   "execution_count": 25,
   "metadata": {},
   "outputs": [
    {
     "data": {
      "text/plain": [
       "<AxesSubplot:title={'center':'Beneficiarios con mayor importe'}, xlabel='BENEFICIARIO'>"
      ]
     },
     "execution_count": 25,
     "metadata": {},
     "output_type": "execute_result"
    },
    {
     "data": {
      "image/png": "[encoded data removed]",
      "text/plain": [
       "<Figure size 432x288 with 1 Axes>"
      ]
     },
     "metadata": {
      "needs_background": "light"
     },
     "output_type": "display_data"
    }
   ],
   "source": [
    "#graficamos los primeros 10 beneficiarios con maoyores pagos\n",
    "sum_importe_beneficiario.reset_index().sort_values(by='IMPORTE', ascending=False).iloc[:10].plot(x='BENEFICIARIO', y='IMPORTE', kind='bar', legend=True, title='Beneficiarios con mayor importe')"
   ]
  },
  {
   "cell_type": "code",
   "execution_count": 26,
   "metadata": {},
   "outputs": [],
   "source": [
    "#vamos a ver el gasto promedio por hoja\n",
    "mean_importe_sheet = compras_df.groupby('SHEET')['IMPORTE'].mean()"
   ]
  },
  {
   "cell_type": "code",
   "execution_count": 28,
   "metadata": {},
   "outputs": [
    {
     "data": {
      "text/plain": [
       "<AxesSubplot:title={'center':'Promedio de gasto por Sheet'}, xlabel='SHEET'>"
      ]
     },
     "execution_count": 28,
     "metadata": {},
     "output_type": "execute_result"
    },
    {
     "data": {
      "image/png": "[encoded data removed]",
      "text/plain": [
       "<Figure size 432x288 with 1 Axes>"
      ]
     },
     "metadata": {
      "needs_background": "light"
     },
     "output_type": "display_data"
    }
   ],
   "source": [
    "mean_importe_sheet.reset_index().sort_values(by='IMPORTE', ascending=False).iloc[:10].plot(x='SHEET', y='IMPORTE', kind='bar', legend=True, title='Promedio de gasto por Sheet')"
   ]
  },
  {
   "cell_type": "code",
   "execution_count": 29,
   "metadata": {},
   "outputs": [],
   "source": [
    "#Vamos a ver los gastos por fecha\n",
    "sum_importe_fecha = compras_df.groupby('FECHA\\nPAGO')['IMPORTE'].sum()"
   ]
  },
  {
   "cell_type": "code",
   "execution_count": 32,
   "metadata": {},
   "outputs": [
    {
     "data": {
      "text/html": [
       "<div>\n",
       "<style scoped>\n",
       "    .dataframe tbody tr th:only-of-type {\n",
       "        vertical-align: middle;\n",
       "    }\n",
       "\n",
       "    .dataframe tbody tr th {\n",
       "        vertical-align: top;\n",
       "    }\n",
       "\n",
       "    .dataframe thead th {\n",
       "        text-align: right;\n",
       "    }\n",
       "</style>\n",
       "<table border=\"1\" class=\"dataframe\">\n",
       "  <thead>\n",
       "    <tr style=\"text-align: right;\">\n",
       "      <th></th>\n",
       "      <th>FECHA\\nPAGO</th>\n",
       "      <th>IMPORTE</th>\n",
       "    </tr>\n",
       "  </thead>\n",
       "  <tbody>\n",
       "    <tr>\n",
       "      <th>0</th>\n",
       "      <td>2022-03-02</td>\n",
       "      <td>3.822930e+07</td>\n",
       "    </tr>\n",
       "    <tr>\n",
       "      <th>1</th>\n",
       "      <td>2022-03-03</td>\n",
       "      <td>1.322410e+07</td>\n",
       "    </tr>\n",
       "    <tr>\n",
       "      <th>2</th>\n",
       "      <td>2022-03-04</td>\n",
       "      <td>8.856641e+07</td>\n",
       "    </tr>\n",
       "    <tr>\n",
       "      <th>3</th>\n",
       "      <td>2022-03-07</td>\n",
       "      <td>2.644905e+06</td>\n",
       "    </tr>\n",
       "    <tr>\n",
       "      <th>4</th>\n",
       "      <td>2022-03-08</td>\n",
       "      <td>4.466500e+04</td>\n",
       "    </tr>\n",
       "    <tr>\n",
       "      <th>5</th>\n",
       "      <td>2022-03-09</td>\n",
       "      <td>1.030504e+07</td>\n",
       "    </tr>\n",
       "    <tr>\n",
       "      <th>6</th>\n",
       "      <td>2022-03-10</td>\n",
       "      <td>2.028542e+06</td>\n",
       "    </tr>\n",
       "    <tr>\n",
       "      <th>7</th>\n",
       "      <td>2022-03-11</td>\n",
       "      <td>1.055220e+08</td>\n",
       "    </tr>\n",
       "    <tr>\n",
       "      <th>8</th>\n",
       "      <td>2022-03-14</td>\n",
       "      <td>8.137525e+06</td>\n",
       "    </tr>\n",
       "    <tr>\n",
       "      <th>9</th>\n",
       "      <td>2022-03-15</td>\n",
       "      <td>3.059000e+03</td>\n",
       "    </tr>\n",
       "    <tr>\n",
       "      <th>10</th>\n",
       "      <td>2022-03-16</td>\n",
       "      <td>5.408285e+06</td>\n",
       "    </tr>\n",
       "    <tr>\n",
       "      <th>11</th>\n",
       "      <td>2022-03-17</td>\n",
       "      <td>2.733362e+07</td>\n",
       "    </tr>\n",
       "    <tr>\n",
       "      <th>12</th>\n",
       "      <td>2022-03-18</td>\n",
       "      <td>8.286060e+07</td>\n",
       "    </tr>\n",
       "    <tr>\n",
       "      <th>13</th>\n",
       "      <td>2022-03-22</td>\n",
       "      <td>9.504109e+05</td>\n",
       "    </tr>\n",
       "    <tr>\n",
       "      <th>14</th>\n",
       "      <td>2022-03-23</td>\n",
       "      <td>5.087217e+06</td>\n",
       "    </tr>\n",
       "    <tr>\n",
       "      <th>15</th>\n",
       "      <td>2022-03-24</td>\n",
       "      <td>7.347489e+06</td>\n",
       "    </tr>\n",
       "    <tr>\n",
       "      <th>16</th>\n",
       "      <td>2022-03-25</td>\n",
       "      <td>6.959934e+07</td>\n",
       "    </tr>\n",
       "    <tr>\n",
       "      <th>17</th>\n",
       "      <td>2022-03-28</td>\n",
       "      <td>6.764070e+07</td>\n",
       "    </tr>\n",
       "    <tr>\n",
       "      <th>18</th>\n",
       "      <td>2022-03-29</td>\n",
       "      <td>2.505740e+07</td>\n",
       "    </tr>\n",
       "    <tr>\n",
       "      <th>19</th>\n",
       "      <td>2022-03-30</td>\n",
       "      <td>1.613876e+07</td>\n",
       "    </tr>\n",
       "    <tr>\n",
       "      <th>20</th>\n",
       "      <td>2022-03-31</td>\n",
       "      <td>6.280529e+07</td>\n",
       "    </tr>\n",
       "  </tbody>\n",
       "</table>\n",
       "</div>"
      ],
      "text/plain": [
       "   FECHA\\nPAGO       IMPORTE\n",
       "0   2022-03-02  3.822930e+07\n",
       "1   2022-03-03  1.322410e+07\n",
       "2   2022-03-04  8.856641e+07\n",
       "3   2022-03-07  2.644905e+06\n",
       "4   2022-03-08  4.466500e+04\n",
       "5   2022-03-09  1.030504e+07\n",
       "6   2022-03-10  2.028542e+06\n",
       "7   2022-03-11  1.055220e+08\n",
       "8   2022-03-14  8.137525e+06\n",
       "9   2022-03-15  3.059000e+03\n",
       "10  2022-03-16  5.408285e+06\n",
       "11  2022-03-17  2.733362e+07\n",
       "12  2022-03-18  8.286060e+07\n",
       "13  2022-03-22  9.504109e+05\n",
       "14  2022-03-23  5.087217e+06\n",
       "15  2022-03-24  7.347489e+06\n",
       "16  2022-03-25  6.959934e+07\n",
       "17  2022-03-28  6.764070e+07\n",
       "18  2022-03-29  2.505740e+07\n",
       "19  2022-03-30  1.613876e+07\n",
       "20  2022-03-31  6.280529e+07"
      ]
     },
     "execution_count": 32,
     "metadata": {},
     "output_type": "execute_result"
    }
   ],
   "source": [
    "sum_importe_fecha.reset_index()"
   ]
  },
  {
   "cell_type": "code",
   "execution_count": 42,
   "metadata": {},
   "outputs": [],
   "source": [
    "#Hacemos un filtro de los gastos unicamente de gastos varios\n",
    "compras_gastos_df =compras_df[compras_df['SHEET']  == 'GTOS VARIOS']"
   ]
  },
  {
   "cell_type": "code",
   "execution_count": 43,
   "metadata": {},
   "outputs": [
    {
     "data": {
      "text/html": [
       "<div>\n",
       "<style scoped>\n",
       "    .dataframe tbody tr th:only-of-type {\n",
       "        vertical-align: middle;\n",
       "    }\n",
       "\n",
       "    .dataframe tbody tr th {\n",
       "        vertical-align: top;\n",
       "    }\n",
       "\n",
       "    .dataframe thead th {\n",
       "        text-align: right;\n",
       "    }\n",
       "</style>\n",
       "<table border=\"1\" class=\"dataframe\">\n",
       "  <thead>\n",
       "    <tr style=\"text-align: right;\">\n",
       "      <th></th>\n",
       "      <th>BENEFICIARIO</th>\n",
       "      <th>FACTURA</th>\n",
       "      <th>CONTRATO</th>\n",
       "      <th>CONCEPTO</th>\n",
       "      <th>TIPO</th>\n",
       "      <th>FDO-#OP</th>\n",
       "      <th>FECHA\\nPAGO</th>\n",
       "      <th>IMPORTE</th>\n",
       "      <th>SHEET</th>\n",
       "    </tr>\n",
       "  </thead>\n",
       "  <tbody>\n",
       "    <tr>\n",
       "      <th>0</th>\n",
       "      <td>PRAXAIR MEXICO S. DE R.L. DE C.V.</td>\n",
       "      <td>FB1179781-183011-215</td>\n",
       "      <td>SAD-638-2021</td>\n",
       "      <td>SUMINISTRO DE OXIGENO, GASES MEDICINALES Y ACC...</td>\n",
       "      <td>TR</td>\n",
       "      <td>1021838.0</td>\n",
       "      <td>2022-03-04</td>\n",
       "      <td>210691.81</td>\n",
       "      <td>GTOS VARIOS</td>\n",
       "    </tr>\n",
       "    <tr>\n",
       "      <th>1</th>\n",
       "      <td>PRAXAIR MEXICO S. DE R.L. DE C.V.</td>\n",
       "      <td>FB1190248-183011-220</td>\n",
       "      <td>SAD-638-2021</td>\n",
       "      <td>SUMINISTRO DE OXIGENO, GASES MEDICINALES Y ACC...</td>\n",
       "      <td>TR</td>\n",
       "      <td>1021838.0</td>\n",
       "      <td>2022-03-04</td>\n",
       "      <td>88044.01</td>\n",
       "      <td>GTOS VARIOS</td>\n",
       "    </tr>\n",
       "    <tr>\n",
       "      <th>2</th>\n",
       "      <td>PRAXAIR MEXICO S. DE R.L. DE C.V.</td>\n",
       "      <td>FB1203206-183011-224</td>\n",
       "      <td>SAD-638-2021</td>\n",
       "      <td>SUMINISTRO DE OXIGENO, GASES MEDICINALES Y ACC...</td>\n",
       "      <td>TR</td>\n",
       "      <td>1021838.0</td>\n",
       "      <td>2022-03-04</td>\n",
       "      <td>871.71</td>\n",
       "      <td>GTOS VARIOS</td>\n",
       "    </tr>\n",
       "    <tr>\n",
       "      <th>3</th>\n",
       "      <td>PRAXAIR MEXICO S. DE R.L. DE C.V.</td>\n",
       "      <td>FB1210915-183011-228</td>\n",
       "      <td>SAD-638-2021</td>\n",
       "      <td>SUMINISTRO DE OXIGENO, GASES MEDICINALES Y ACC...</td>\n",
       "      <td>TR</td>\n",
       "      <td>1021838.0</td>\n",
       "      <td>2022-03-04</td>\n",
       "      <td>143554.60</td>\n",
       "      <td>GTOS VARIOS</td>\n",
       "    </tr>\n",
       "    <tr>\n",
       "      <th>4</th>\n",
       "      <td>PRAXAIR MEXICO S. DE R.L. DE C.V.</td>\n",
       "      <td>FB182281-183011-214</td>\n",
       "      <td>SAD-638-2021</td>\n",
       "      <td>SUMINISTRO DE OXIGENO, GASES MEDICINALES Y ACC...</td>\n",
       "      <td>TR</td>\n",
       "      <td>1021838.0</td>\n",
       "      <td>2022-03-04</td>\n",
       "      <td>871.71</td>\n",
       "      <td>GTOS VARIOS</td>\n",
       "    </tr>\n",
       "    <tr>\n",
       "      <th>...</th>\n",
       "      <td>...</td>\n",
       "      <td>...</td>\n",
       "      <td>...</td>\n",
       "      <td>...</td>\n",
       "      <td>...</td>\n",
       "      <td>...</td>\n",
       "      <td>...</td>\n",
       "      <td>...</td>\n",
       "      <td>...</td>\n",
       "    </tr>\n",
       "    <tr>\n",
       "      <th>812</th>\n",
       "      <td>GS GAS Q, S.A. DE C.V.</td>\n",
       "      <td>BPLGK 78473201-183011-636</td>\n",
       "      <td>SAD-627-2020</td>\n",
       "      <td>CONSUMO DIESEL DE LA SEMANA 22 AL 28 NOVIEMBRE...</td>\n",
       "      <td>TR</td>\n",
       "      <td>1021899.0</td>\n",
       "      <td>2022-03-11</td>\n",
       "      <td>119769.15</td>\n",
       "      <td>GTOS VARIOS</td>\n",
       "    </tr>\n",
       "    <tr>\n",
       "      <th>813</th>\n",
       "      <td>GS GAS Q, S.A. DE C.V.</td>\n",
       "      <td>BPLGK 78473203-183011-622</td>\n",
       "      <td>SAD-627-2020</td>\n",
       "      <td>CONSUMO DIESEL DE LA SEMANA 29 AL 30 NOVIEMBRE...</td>\n",
       "      <td>TR</td>\n",
       "      <td>1021899.0</td>\n",
       "      <td>2022-03-11</td>\n",
       "      <td>64051.63</td>\n",
       "      <td>GTOS VARIOS</td>\n",
       "    </tr>\n",
       "    <tr>\n",
       "      <th>814</th>\n",
       "      <td>GS GAS Q, S.A. DE C.V.</td>\n",
       "      <td>BPLGK78473198-183011-586</td>\n",
       "      <td>SAD-627-2020</td>\n",
       "      <td>CONSUMO DE GASOLINA SEMANA 22 AL 28 NOVIEMBRE ...</td>\n",
       "      <td>TR</td>\n",
       "      <td>1021899.0</td>\n",
       "      <td>2022-03-11</td>\n",
       "      <td>2231.96</td>\n",
       "      <td>GTOS VARIOS</td>\n",
       "    </tr>\n",
       "    <tr>\n",
       "      <th>815</th>\n",
       "      <td>GS GAS Q, S.A. DE C.V.</td>\n",
       "      <td>BPLGK78473206-183011-632</td>\n",
       "      <td>SAD-627-2020</td>\n",
       "      <td>CONSUMO DIESEL DE LA SEMANA 01 AL 05 DICIEMBRE...</td>\n",
       "      <td>TR</td>\n",
       "      <td>1021899.0</td>\n",
       "      <td>2022-03-11</td>\n",
       "      <td>33220.03</td>\n",
       "      <td>GTOS VARIOS</td>\n",
       "    </tr>\n",
       "    <tr>\n",
       "      <th>816</th>\n",
       "      <td>GS GAS Q, S.A. DE C.V.</td>\n",
       "      <td>BPLGK78473205-183011-590</td>\n",
       "      <td>SAD-627-2020</td>\n",
       "      <td>CONSUMO DE GASOLINA SEMANA 01 AL 05 DICIEMBRE ...</td>\n",
       "      <td>TR</td>\n",
       "      <td>1022006.0</td>\n",
       "      <td>2022-03-25</td>\n",
       "      <td>3953.64</td>\n",
       "      <td>GTOS VARIOS</td>\n",
       "    </tr>\n",
       "  </tbody>\n",
       "</table>\n",
       "<p>817 rows × 9 columns</p>\n",
       "</div>"
      ],
      "text/plain": [
       "                          BENEFICIARIO                    FACTURA  \\\n",
       "0    PRAXAIR MEXICO S. DE R.L. DE C.V.       FB1179781-183011-215   \n",
       "1    PRAXAIR MEXICO S. DE R.L. DE C.V.       FB1190248-183011-220   \n",
       "2    PRAXAIR MEXICO S. DE R.L. DE C.V.       FB1203206-183011-224   \n",
       "3    PRAXAIR MEXICO S. DE R.L. DE C.V.       FB1210915-183011-228   \n",
       "4    PRAXAIR MEXICO S. DE R.L. DE C.V.        FB182281-183011-214   \n",
       "..                                 ...                        ...   \n",
       "812             GS GAS Q, S.A. DE C.V.  BPLGK 78473201-183011-636   \n",
       "813             GS GAS Q, S.A. DE C.V.  BPLGK 78473203-183011-622   \n",
       "814             GS GAS Q, S.A. DE C.V.   BPLGK78473198-183011-586   \n",
       "815             GS GAS Q, S.A. DE C.V.   BPLGK78473206-183011-632   \n",
       "816             GS GAS Q, S.A. DE C.V.   BPLGK78473205-183011-590   \n",
       "\n",
       "         CONTRATO                                           CONCEPTO TIPO  \\\n",
       "0    SAD-638-2021  SUMINISTRO DE OXIGENO, GASES MEDICINALES Y ACC...   TR   \n",
       "1    SAD-638-2021  SUMINISTRO DE OXIGENO, GASES MEDICINALES Y ACC...   TR   \n",
       "2    SAD-638-2021  SUMINISTRO DE OXIGENO, GASES MEDICINALES Y ACC...   TR   \n",
       "3    SAD-638-2021  SUMINISTRO DE OXIGENO, GASES MEDICINALES Y ACC...   TR   \n",
       "4    SAD-638-2021  SUMINISTRO DE OXIGENO, GASES MEDICINALES Y ACC...   TR   \n",
       "..            ...                                                ...  ...   \n",
       "812  SAD-627-2020  CONSUMO DIESEL DE LA SEMANA 22 AL 28 NOVIEMBRE...   TR   \n",
       "813  SAD-627-2020  CONSUMO DIESEL DE LA SEMANA 29 AL 30 NOVIEMBRE...   TR   \n",
       "814  SAD-627-2020  CONSUMO DE GASOLINA SEMANA 22 AL 28 NOVIEMBRE ...   TR   \n",
       "815  SAD-627-2020  CONSUMO DIESEL DE LA SEMANA 01 AL 05 DICIEMBRE...   TR   \n",
       "816  SAD-627-2020  CONSUMO DE GASOLINA SEMANA 01 AL 05 DICIEMBRE ...   TR   \n",
       "\n",
       "       FDO-#OP FECHA\\nPAGO    IMPORTE        SHEET  \n",
       "0    1021838.0  2022-03-04  210691.81  GTOS VARIOS  \n",
       "1    1021838.0  2022-03-04   88044.01  GTOS VARIOS  \n",
       "2    1021838.0  2022-03-04     871.71  GTOS VARIOS  \n",
       "3    1021838.0  2022-03-04  143554.60  GTOS VARIOS  \n",
       "4    1021838.0  2022-03-04     871.71  GTOS VARIOS  \n",
       "..         ...         ...        ...          ...  \n",
       "812  1021899.0  2022-03-11  119769.15  GTOS VARIOS  \n",
       "813  1021899.0  2022-03-11   64051.63  GTOS VARIOS  \n",
       "814  1021899.0  2022-03-11    2231.96  GTOS VARIOS  \n",
       "815  1021899.0  2022-03-11   33220.03  GTOS VARIOS  \n",
       "816  1022006.0  2022-03-25    3953.64  GTOS VARIOS  \n",
       "\n",
       "[817 rows x 9 columns]"
      ]
     },
     "execution_count": 43,
     "metadata": {},
     "output_type": "execute_result"
    }
   ],
   "source": [
    "compras_gastos_df"
   ]
  },
  {
   "cell_type": "code",
   "execution_count": 44,
   "metadata": {},
   "outputs": [
    {
     "data": {
      "text/plain": [
       "<AxesSubplot:>"
      ]
     },
     "execution_count": 44,
     "metadata": {},
     "output_type": "execute_result"
    },
    {
     "data": {
      "image/png": "[encoded data removed]",
      "text/plain": [
       "<Figure size 432x288 with 1 Axes>"
      ]
     },
     "metadata": {
      "needs_background": "light"
     },
     "output_type": "display_data"
    }
   ],
   "source": [
    "compras_gastos_df['IMPORTE'].hist(bins=20)"
   ]
  },
  {
   "cell_type": "code",
   "execution_count": 48,
   "metadata": {},
   "outputs": [
    {
     "data": {
      "text/html": [
       "<div>\n",
       "<style scoped>\n",
       "    .dataframe tbody tr th:only-of-type {\n",
       "        vertical-align: middle;\n",
       "    }\n",
       "\n",
       "    .dataframe tbody tr th {\n",
       "        vertical-align: top;\n",
       "    }\n",
       "\n",
       "    .dataframe thead th {\n",
       "        text-align: right;\n",
       "    }\n",
       "</style>\n",
       "<table border=\"1\" class=\"dataframe\">\n",
       "  <thead>\n",
       "    <tr style=\"text-align: right;\">\n",
       "      <th></th>\n",
       "      <th>BENEFICIARIO</th>\n",
       "      <th>FACTURA</th>\n",
       "      <th>CONTRATO</th>\n",
       "      <th>CONCEPTO</th>\n",
       "      <th>TIPO</th>\n",
       "      <th>FDO-#OP</th>\n",
       "      <th>FECHA\\nPAGO</th>\n",
       "      <th>IMPORTE</th>\n",
       "      <th>SHEET</th>\n",
       "    </tr>\n",
       "  </thead>\n",
       "  <tbody>\n",
       "    <tr>\n",
       "      <th>513</th>\n",
       "      <td>MUNICIPIO DE LA CIUDAD DE MONTERREY</td>\n",
       "      <td>183009-111</td>\n",
       "      <td>NO APLICA</td>\n",
       "      <td>FINIQUITO DE FONDO DE ASISTENCIA SOCIAL DEL DI...</td>\n",
       "      <td>CH</td>\n",
       "      <td>1107454.0</td>\n",
       "      <td>2022-03-25</td>\n",
       "      <td>49949.00</td>\n",
       "      <td>GTOS VARIOS</td>\n",
       "    </tr>\n",
       "    <tr>\n",
       "      <th>514</th>\n",
       "      <td>MUNICIPIO DE LA CIUDAD DE MONTERREY</td>\n",
       "      <td>2022-5-A-183010-664</td>\n",
       "      <td>NO APLICA</td>\n",
       "      <td>PAGO DE NÓMINA PERIODO: 5-2022, BANCO: BANCA A...</td>\n",
       "      <td>TR</td>\n",
       "      <td>11000243.0</td>\n",
       "      <td>2022-03-28</td>\n",
       "      <td>31868014.34</td>\n",
       "      <td>GTOS VARIOS</td>\n",
       "    </tr>\n",
       "    <tr>\n",
       "      <th>515</th>\n",
       "      <td>MUNICIPIO DE LA CIUDAD DE MONTERREY</td>\n",
       "      <td>2022-5-B-183010-666</td>\n",
       "      <td>NO APLICA</td>\n",
       "      <td>PAGO DE NÓMINA PERIODO: 5-2022, BANCO: BANCO M...</td>\n",
       "      <td>TR</td>\n",
       "      <td>231000150.0</td>\n",
       "      <td>2022-03-28</td>\n",
       "      <td>17667078.97</td>\n",
       "      <td>GTOS VARIOS</td>\n",
       "    </tr>\n",
       "    <tr>\n",
       "      <th>516</th>\n",
       "      <td>MUNICIPIO DE LA CIUDAD DE MONTERREY</td>\n",
       "      <td>2022-4-C-183010-561</td>\n",
       "      <td>NO APLICA</td>\n",
       "      <td>PAGO DE NÓMINA PERIODO: 4-2022, BANCO: BANCO M...</td>\n",
       "      <td>TR</td>\n",
       "      <td>240000165.0</td>\n",
       "      <td>2022-03-28</td>\n",
       "      <td>224588.67</td>\n",
       "      <td>GTOS VARIOS</td>\n",
       "    </tr>\n",
       "    <tr>\n",
       "      <th>517</th>\n",
       "      <td>MUNICIPIO DE LA CIUDAD DE MONTERREY</td>\n",
       "      <td>2022-5-C-183010-663</td>\n",
       "      <td>NO APLICA</td>\n",
       "      <td>PAGO DE NÓMINA PERIODO: 5-2022, BANCO: BANCO M...</td>\n",
       "      <td>TR</td>\n",
       "      <td>240000166.0</td>\n",
       "      <td>2022-03-28</td>\n",
       "      <td>4046806.26</td>\n",
       "      <td>GTOS VARIOS</td>\n",
       "    </tr>\n",
       "    <tr>\n",
       "      <th>518</th>\n",
       "      <td>MUNICIPIO DE LA CIUDAD DE MONTERREY</td>\n",
       "      <td>2022-5-C-183010-687</td>\n",
       "      <td>NO APLICA</td>\n",
       "      <td>PAGO DE NÓMINA PERIODO: 5-2022, BANCO: BANCO M...</td>\n",
       "      <td>TR</td>\n",
       "      <td>240000167.0</td>\n",
       "      <td>2022-03-28</td>\n",
       "      <td>188624.23</td>\n",
       "      <td>GTOS VARIOS</td>\n",
       "    </tr>\n",
       "    <tr>\n",
       "      <th>519</th>\n",
       "      <td>MUNICIPIO DE LA CIUDAD DE MONTERREY</td>\n",
       "      <td>2022-5-BBVA-183010-665</td>\n",
       "      <td>NO APLICA</td>\n",
       "      <td>PAGO DE NÓMINA PERIODO: 5-2022, BANCO: BBVA BA...</td>\n",
       "      <td>TR</td>\n",
       "      <td>328000013.0</td>\n",
       "      <td>2022-03-28</td>\n",
       "      <td>1907335.68</td>\n",
       "      <td>GTOS VARIOS</td>\n",
       "    </tr>\n",
       "    <tr>\n",
       "      <th>520</th>\n",
       "      <td>MUNICIPIO DE LA CIUDAD DE MONTERREY</td>\n",
       "      <td>2022-6-A-183010-843</td>\n",
       "      <td>NO APLICA</td>\n",
       "      <td>PAGO DE NÓMINA PERIODO: 6-2022, BANCO: BANCA A...</td>\n",
       "      <td>TR</td>\n",
       "      <td>11000244.0</td>\n",
       "      <td>2022-03-31</td>\n",
       "      <td>26951622.47</td>\n",
       "      <td>GTOS VARIOS</td>\n",
       "    </tr>\n",
       "    <tr>\n",
       "      <th>521</th>\n",
       "      <td>MUNICIPIO DE LA CIUDAD DE MONTERREY</td>\n",
       "      <td>2022-6-A-183010-888</td>\n",
       "      <td>NO APLICA</td>\n",
       "      <td>PAGO DE NÓMINA PERIODO: 6-E-2022, BANCO: BANCA...</td>\n",
       "      <td>TR</td>\n",
       "      <td>11000245.0</td>\n",
       "      <td>2022-03-31</td>\n",
       "      <td>81750.41</td>\n",
       "      <td>GTOS VARIOS</td>\n",
       "    </tr>\n",
       "    <tr>\n",
       "      <th>522</th>\n",
       "      <td>MUNICIPIO DE LA CIUDAD DE MONTERREY</td>\n",
       "      <td>2022-6-B-183010-845</td>\n",
       "      <td>NO APLICA</td>\n",
       "      <td>PAGO DE NÓMINA PERIODO: 6-2022, BANCO: BANCO M...</td>\n",
       "      <td>TR</td>\n",
       "      <td>231000151.0</td>\n",
       "      <td>2022-03-31</td>\n",
       "      <td>15332605.20</td>\n",
       "      <td>GTOS VARIOS</td>\n",
       "    </tr>\n",
       "    <tr>\n",
       "      <th>523</th>\n",
       "      <td>MUNICIPIO DE LA CIUDAD DE MONTERREY</td>\n",
       "      <td>2022-6-B-183010-890</td>\n",
       "      <td>NO APLICA</td>\n",
       "      <td>PAGO DE NÓMINA PERIODO: 6-E-2022, BANCO: BANCO...</td>\n",
       "      <td>TR</td>\n",
       "      <td>231000152.0</td>\n",
       "      <td>2022-03-31</td>\n",
       "      <td>118172.46</td>\n",
       "      <td>GTOS VARIOS</td>\n",
       "    </tr>\n",
       "    <tr>\n",
       "      <th>524</th>\n",
       "      <td>MUNICIPIO DE LA CIUDAD DE MONTERREY</td>\n",
       "      <td>2022-6-C-183010-842</td>\n",
       "      <td>NO APLICA</td>\n",
       "      <td>PAGO DE NÓMINA PERIODO: 6-2022, BANCO: BANCO M...</td>\n",
       "      <td>TR</td>\n",
       "      <td>240000168.0</td>\n",
       "      <td>2022-03-31</td>\n",
       "      <td>4479746.23</td>\n",
       "      <td>GTOS VARIOS</td>\n",
       "    </tr>\n",
       "    <tr>\n",
       "      <th>525</th>\n",
       "      <td>MUNICIPIO DE LA CIUDAD DE MONTERREY</td>\n",
       "      <td>2022-6-C-183010-887</td>\n",
       "      <td>NO APLICA</td>\n",
       "      <td>PAGO DE NÓMINA PERIODO: 6-E-2022, BANCO: BANCO...</td>\n",
       "      <td>TR</td>\n",
       "      <td>240000169.0</td>\n",
       "      <td>2022-03-31</td>\n",
       "      <td>6600.43</td>\n",
       "      <td>GTOS VARIOS</td>\n",
       "    </tr>\n",
       "    <tr>\n",
       "      <th>526</th>\n",
       "      <td>MUNICIPIO DE LA CIUDAD DE MONTERREY</td>\n",
       "      <td>2022-6-BBVA-183010-844</td>\n",
       "      <td>NO APLICA</td>\n",
       "      <td>PAGO DE NÓMINA PERIODO: 6-2022, BANCO: BBVA BA...</td>\n",
       "      <td>TR</td>\n",
       "      <td>328000014.0</td>\n",
       "      <td>2022-03-31</td>\n",
       "      <td>2065066.75</td>\n",
       "      <td>GTOS VARIOS</td>\n",
       "    </tr>\n",
       "    <tr>\n",
       "      <th>527</th>\n",
       "      <td>MUNICIPIO DE LA CIUDAD DE MONTERREY</td>\n",
       "      <td>2022-6-BBVA-183010-889</td>\n",
       "      <td>NO APLICA</td>\n",
       "      <td>PAGO DE NÓMINA PERIODO: 6-E-2022, BANCO: BBVA ...</td>\n",
       "      <td>TR</td>\n",
       "      <td>328000015.0</td>\n",
       "      <td>2022-03-31</td>\n",
       "      <td>8745.83</td>\n",
       "      <td>GTOS VARIOS</td>\n",
       "    </tr>\n",
       "  </tbody>\n",
       "</table>\n",
       "</div>"
      ],
      "text/plain": [
       "                            BENEFICIARIO                 FACTURA   CONTRATO  \\\n",
       "513  MUNICIPIO DE LA CIUDAD DE MONTERREY              183009-111  NO APLICA   \n",
       "514  MUNICIPIO DE LA CIUDAD DE MONTERREY     2022-5-A-183010-664  NO APLICA   \n",
       "515  MUNICIPIO DE LA CIUDAD DE MONTERREY     2022-5-B-183010-666  NO APLICA   \n",
       "516  MUNICIPIO DE LA CIUDAD DE MONTERREY     2022-4-C-183010-561  NO APLICA   \n",
       "517  MUNICIPIO DE LA CIUDAD DE MONTERREY     2022-5-C-183010-663  NO APLICA   \n",
       "518  MUNICIPIO DE LA CIUDAD DE MONTERREY     2022-5-C-183010-687  NO APLICA   \n",
       "519  MUNICIPIO DE LA CIUDAD DE MONTERREY  2022-5-BBVA-183010-665  NO APLICA   \n",
       "520  MUNICIPIO DE LA CIUDAD DE MONTERREY     2022-6-A-183010-843  NO APLICA   \n",
       "521  MUNICIPIO DE LA CIUDAD DE MONTERREY     2022-6-A-183010-888  NO APLICA   \n",
       "522  MUNICIPIO DE LA CIUDAD DE MONTERREY     2022-6-B-183010-845  NO APLICA   \n",
       "523  MUNICIPIO DE LA CIUDAD DE MONTERREY     2022-6-B-183010-890  NO APLICA   \n",
       "524  MUNICIPIO DE LA CIUDAD DE MONTERREY     2022-6-C-183010-842  NO APLICA   \n",
       "525  MUNICIPIO DE LA CIUDAD DE MONTERREY     2022-6-C-183010-887  NO APLICA   \n",
       "526  MUNICIPIO DE LA CIUDAD DE MONTERREY  2022-6-BBVA-183010-844  NO APLICA   \n",
       "527  MUNICIPIO DE LA CIUDAD DE MONTERREY  2022-6-BBVA-183010-889  NO APLICA   \n",
       "\n",
       "                                              CONCEPTO TIPO      FDO-#OP  \\\n",
       "513  FINIQUITO DE FONDO DE ASISTENCIA SOCIAL DEL DI...   CH    1107454.0   \n",
       "514  PAGO DE NÓMINA PERIODO: 5-2022, BANCO: BANCA A...   TR   11000243.0   \n",
       "515  PAGO DE NÓMINA PERIODO: 5-2022, BANCO: BANCO M...   TR  231000150.0   \n",
       "516  PAGO DE NÓMINA PERIODO: 4-2022, BANCO: BANCO M...   TR  240000165.0   \n",
       "517  PAGO DE NÓMINA PERIODO: 5-2022, BANCO: BANCO M...   TR  240000166.0   \n",
       "518  PAGO DE NÓMINA PERIODO: 5-2022, BANCO: BANCO M...   TR  240000167.0   \n",
       "519  PAGO DE NÓMINA PERIODO: 5-2022, BANCO: BBVA BA...   TR  328000013.0   \n",
       "520  PAGO DE NÓMINA PERIODO: 6-2022, BANCO: BANCA A...   TR   11000244.0   \n",
       "521  PAGO DE NÓMINA PERIODO: 6-E-2022, BANCO: BANCA...   TR   11000245.0   \n",
       "522  PAGO DE NÓMINA PERIODO: 6-2022, BANCO: BANCO M...   TR  231000151.0   \n",
       "523  PAGO DE NÓMINA PERIODO: 6-E-2022, BANCO: BANCO...   TR  231000152.0   \n",
       "524  PAGO DE NÓMINA PERIODO: 6-2022, BANCO: BANCO M...   TR  240000168.0   \n",
       "525  PAGO DE NÓMINA PERIODO: 6-E-2022, BANCO: BANCO...   TR  240000169.0   \n",
       "526  PAGO DE NÓMINA PERIODO: 6-2022, BANCO: BBVA BA...   TR  328000014.0   \n",
       "527  PAGO DE NÓMINA PERIODO: 6-E-2022, BANCO: BBVA ...   TR  328000015.0   \n",
       "\n",
       "    FECHA\\nPAGO      IMPORTE        SHEET  \n",
       "513  2022-03-25     49949.00  GTOS VARIOS  \n",
       "514  2022-03-28  31868014.34  GTOS VARIOS  \n",
       "515  2022-03-28  17667078.97  GTOS VARIOS  \n",
       "516  2022-03-28    224588.67  GTOS VARIOS  \n",
       "517  2022-03-28   4046806.26  GTOS VARIOS  \n",
       "518  2022-03-28    188624.23  GTOS VARIOS  \n",
       "519  2022-03-28   1907335.68  GTOS VARIOS  \n",
       "520  2022-03-31  26951622.47  GTOS VARIOS  \n",
       "521  2022-03-31     81750.41  GTOS VARIOS  \n",
       "522  2022-03-31  15332605.20  GTOS VARIOS  \n",
       "523  2022-03-31    118172.46  GTOS VARIOS  \n",
       "524  2022-03-31   4479746.23  GTOS VARIOS  \n",
       "525  2022-03-31      6600.43  GTOS VARIOS  \n",
       "526  2022-03-31   2065066.75  GTOS VARIOS  \n",
       "527  2022-03-31      8745.83  GTOS VARIOS  "
      ]
     },
     "execution_count": 48,
     "metadata": {},
     "output_type": "execute_result"
    }
   ],
   "source": [
    "#veamos que paso cuando el beneficiario es el municipio de monterrey\n",
    "compras_df[compras_df['BENEFICIARIO'] == 'MUNICIPIO DE LA CIUDAD DE MONTERREY']"
   ]
  },
  {
   "cell_type": "code",
   "execution_count": 50,
   "metadata": {},
   "outputs": [
    {
     "data": {
      "text/plain": [
       "(15, 9)"
      ]
     },
     "execution_count": 50,
     "metadata": {},
     "output_type": "execute_result"
    }
   ],
   "source": [
    "compras_df[compras_df['BENEFICIARIO'] == 'MUNICIPIO DE LA CIUDAD DE MONTERREY'].shape"
   ]
  },
  {
   "cell_type": "code",
   "execution_count": 49,
   "metadata": {},
   "outputs": [
    {
     "data": {
      "text/plain": [
       "GTOS VARIOS    15\n",
       "Name: SHEET, dtype: int64"
      ]
     },
     "execution_count": 49,
     "metadata": {},
     "output_type": "execute_result"
    }
   ],
   "source": [
    "#vemos cuales son los tipos de gastos que tuvo el municipio de monterrey\n",
    "compras_df[compras_df['BENEFICIARIO'] == 'MUNICIPIO DE LA CIUDAD DE MONTERREY']['SHEET'].value_counts()"
   ]
  },
  {
   "cell_type": "code",
   "execution_count": 54,
   "metadata": {},
   "outputs": [],
   "source": [
    "#comparando gastos por beneficiario y por sheet\n",
    "compras_sheet_beneficiarios = compras_df.groupby(['BENEFICIARIO', 'SHEET'])['IMPORTE'].sum().sort_values().unstack('SHEET')"
   ]
  },
  {
   "cell_type": "code",
   "execution_count": 55,
   "metadata": {},
   "outputs": [
    {
     "data": {
      "text/html": [
       "<div>\n",
       "<style scoped>\n",
       "    .dataframe tbody tr th:only-of-type {\n",
       "        vertical-align: middle;\n",
       "    }\n",
       "\n",
       "    .dataframe tbody tr th {\n",
       "        vertical-align: top;\n",
       "    }\n",
       "\n",
       "    .dataframe thead th {\n",
       "        text-align: right;\n",
       "    }\n",
       "</style>\n",
       "<table border=\"1\" class=\"dataframe\">\n",
       "  <thead>\n",
       "    <tr style=\"text-align: right;\">\n",
       "      <th>SHEET</th>\n",
       "      <th>GTOS VARIOS</th>\n",
       "      <th>OB.PUBLICA-GTS VARIOS (FDO ESP)</th>\n",
       "      <th>SERV PERS</th>\n",
       "      <th>SERV_PROF</th>\n",
       "    </tr>\n",
       "    <tr>\n",
       "      <th>BENEFICIARIO</th>\n",
       "      <th></th>\n",
       "      <th></th>\n",
       "      <th></th>\n",
       "      <th></th>\n",
       "    </tr>\n",
       "  </thead>\n",
       "  <tbody>\n",
       "    <tr>\n",
       "      <th>2814 INMUEBLES S. DE R.L. DE C.V.</th>\n",
       "      <td>24896.0</td>\n",
       "      <td>NaN</td>\n",
       "      <td>NaN</td>\n",
       "      <td>NaN</td>\n",
       "    </tr>\n",
       "    <tr>\n",
       "      <th>ABUNDIS  ALBERTO</th>\n",
       "      <td>NaN</td>\n",
       "      <td>NaN</td>\n",
       "      <td>NaN</td>\n",
       "      <td>48780.0</td>\n",
       "    </tr>\n",
       "    <tr>\n",
       "      <th>ACUÑA RODRIGUEZ SAMUEL ABRAHAM</th>\n",
       "      <td>NaN</td>\n",
       "      <td>NaN</td>\n",
       "      <td>37892.96</td>\n",
       "      <td>NaN</td>\n",
       "    </tr>\n",
       "    <tr>\n",
       "      <th>ADK CONSTRUCCIONES, SA. DE CV.</th>\n",
       "      <td>NaN</td>\n",
       "      <td>791402.13</td>\n",
       "      <td>NaN</td>\n",
       "      <td>NaN</td>\n",
       "    </tr>\n",
       "    <tr>\n",
       "      <th>ADMON DE PROY Y SERVICIOS EN CONDOMINIO, SC.</th>\n",
       "      <td>NaN</td>\n",
       "      <td>339702.69</td>\n",
       "      <td>NaN</td>\n",
       "      <td>NaN</td>\n",
       "    </tr>\n",
       "    <tr>\n",
       "      <th>...</th>\n",
       "      <td>...</td>\n",
       "      <td>...</td>\n",
       "      <td>...</td>\n",
       "      <td>...</td>\n",
       "    </tr>\n",
       "    <tr>\n",
       "      <th>VILLARREAL BARBARIN WILBUR JARIM</th>\n",
       "      <td>NaN</td>\n",
       "      <td>NaN</td>\n",
       "      <td>163902.16</td>\n",
       "      <td>NaN</td>\n",
       "    </tr>\n",
       "    <tr>\n",
       "      <th>VILLARREAL LOPEZ TERESA ELIZABETH</th>\n",
       "      <td>NaN</td>\n",
       "      <td>NaN</td>\n",
       "      <td>5150.00</td>\n",
       "      <td>NaN</td>\n",
       "    </tr>\n",
       "    <tr>\n",
       "      <th>ZAPATA CHAVIRA HOMERO ARTURO</th>\n",
       "      <td>NaN</td>\n",
       "      <td>NaN</td>\n",
       "      <td>NaN</td>\n",
       "      <td>56700.0</td>\n",
       "    </tr>\n",
       "    <tr>\n",
       "      <th>ZAVALA SANTILLAN MOISES</th>\n",
       "      <td>NaN</td>\n",
       "      <td>NaN</td>\n",
       "      <td>19314.22</td>\n",
       "      <td>NaN</td>\n",
       "    </tr>\n",
       "    <tr>\n",
       "      <th>ZEPEDA CARDONA LAURA AMPARO</th>\n",
       "      <td>NaN</td>\n",
       "      <td>NaN</td>\n",
       "      <td>6328.57</td>\n",
       "      <td>NaN</td>\n",
       "    </tr>\n",
       "  </tbody>\n",
       "</table>\n",
       "<p>470 rows × 4 columns</p>\n",
       "</div>"
      ],
      "text/plain": [
       "SHEET                                         GTOS VARIOS  \\\n",
       "BENEFICIARIO                                                \n",
       "2814 INMUEBLES S. DE R.L. DE C.V.                 24896.0   \n",
       "ABUNDIS  ALBERTO                                      NaN   \n",
       "ACUÑA RODRIGUEZ SAMUEL ABRAHAM                        NaN   \n",
       "ADK CONSTRUCCIONES, SA. DE CV.                        NaN   \n",
       "ADMON DE PROY Y SERVICIOS EN CONDOMINIO, SC.          NaN   \n",
       "...                                                   ...   \n",
       "VILLARREAL BARBARIN WILBUR JARIM                      NaN   \n",
       "VILLARREAL LOPEZ TERESA ELIZABETH                     NaN   \n",
       "ZAPATA CHAVIRA HOMERO ARTURO                          NaN   \n",
       "ZAVALA SANTILLAN MOISES                               NaN   \n",
       "ZEPEDA CARDONA LAURA AMPARO                           NaN   \n",
       "\n",
       "SHEET                                         OB.PUBLICA-GTS VARIOS (FDO ESP)  \\\n",
       "BENEFICIARIO                                                                    \n",
       "2814 INMUEBLES S. DE R.L. DE C.V.                                         NaN   \n",
       "ABUNDIS  ALBERTO                                                          NaN   \n",
       "ACUÑA RODRIGUEZ SAMUEL ABRAHAM                                            NaN   \n",
       "ADK CONSTRUCCIONES, SA. DE CV.                                      791402.13   \n",
       "ADMON DE PROY Y SERVICIOS EN CONDOMINIO, SC.                        339702.69   \n",
       "...                                                                       ...   \n",
       "VILLARREAL BARBARIN WILBUR JARIM                                          NaN   \n",
       "VILLARREAL LOPEZ TERESA ELIZABETH                                         NaN   \n",
       "ZAPATA CHAVIRA HOMERO ARTURO                                              NaN   \n",
       "ZAVALA SANTILLAN MOISES                                                   NaN   \n",
       "ZEPEDA CARDONA LAURA AMPARO                                               NaN   \n",
       "\n",
       "SHEET                                         SERV PERS  SERV_PROF  \n",
       "BENEFICIARIO                                                        \n",
       "2814 INMUEBLES S. DE R.L. DE C.V.                   NaN        NaN  \n",
       "ABUNDIS  ALBERTO                                    NaN    48780.0  \n",
       "ACUÑA RODRIGUEZ SAMUEL ABRAHAM                 37892.96        NaN  \n",
       "ADK CONSTRUCCIONES, SA. DE CV.                      NaN        NaN  \n",
       "ADMON DE PROY Y SERVICIOS EN CONDOMINIO, SC.        NaN        NaN  \n",
       "...                                                 ...        ...  \n",
       "VILLARREAL BARBARIN WILBUR JARIM              163902.16        NaN  \n",
       "VILLARREAL LOPEZ TERESA ELIZABETH               5150.00        NaN  \n",
       "ZAPATA CHAVIRA HOMERO ARTURO                        NaN    56700.0  \n",
       "ZAVALA SANTILLAN MOISES                        19314.22        NaN  \n",
       "ZEPEDA CARDONA LAURA AMPARO                     6328.57        NaN  \n",
       "\n",
       "[470 rows x 4 columns]"
      ]
     },
     "execution_count": 55,
     "metadata": {},
     "output_type": "execute_result"
    }
   ],
   "source": [
    "compras_sheet_beneficiarios"
   ]
  },
  {
   "cell_type": "code",
   "execution_count": 56,
   "metadata": {},
   "outputs": [],
   "source": [
    "#vamos a localizar a los beneficiarios que han tenido mas compras\n",
    "top_beneficiarios = compras_df.groupby('BENEFICIARIO')['IMPORTE'].sum().sort_values(ascending=False).index[:10]"
   ]
  },
  {
   "cell_type": "code",
   "execution_count": 57,
   "metadata": {},
   "outputs": [
    {
     "data": {
      "text/plain": [
       "<AxesSubplot:title={'center':'Mayores beneficiarios'}, xlabel='BENEFICIARIO'>"
      ]
     },
     "execution_count": 57,
     "metadata": {},
     "output_type": "execute_result"
    },
    {
     "data": {
      "image/png": "[encoded data removed]",
      "text/plain": [
       "<Figure size 432x288 with 1 Axes>"
      ]
     },
     "metadata": {
      "needs_background": "light"
     },
     "output_type": "display_data"
    }
   ],
   "source": [
    "#graficamos en donde se vean los tipos de contratos\n",
    "compras_sheet_beneficiarios.loc[top_beneficiarios].plot(kind='bar', stacked=True, title='Mayores beneficiarios')"
   ]
  },
  {
   "cell_type": "markdown",
   "metadata": {},
   "source": [
    "## Análisis de texto"
   ]
  },
  {
   "cell_type": "code",
   "execution_count": 62,
   "metadata": {},
   "outputs": [
    {
     "name": "stdout",
     "output_type": "stream",
     "text": [
      "['de', 'la', 'que', 'el', 'en', 'y', 'a', 'los', 'del', 'se', 'las', 'por', 'un', 'para', 'con', 'no', 'una', 'su', 'al', 'lo', 'como', 'más', 'pero', 'sus', 'le', 'ya', 'o', 'este', 'sí', 'porque', 'esta', 'entre', 'cuando', 'muy', 'sin', 'sobre', 'también', 'me', 'hasta', 'hay', 'donde', 'quien', 'desde', 'todo', 'nos', 'durante', 'todos', 'uno', 'les', 'ni', 'contra', 'otros', 'ese', 'eso', 'ante', 'ellos', 'e', 'esto', 'mí', 'antes', 'algunos', 'qué', 'unos', 'yo', 'otro', 'otras', 'otra', 'él', 'tanto', 'esa', 'estos', 'mucho', 'quienes', 'nada', 'muchos', 'cual', 'poco', 'ella', 'estar', 'estas', 'algunas', 'algo', 'nosotros', 'mi', 'mis', 'tú', 'te', 'ti', 'tu', 'tus', 'ellas', 'nosotras', 'vosotros', 'vosotras', 'os', 'mío', 'mía', 'míos', 'mías', 'tuyo', 'tuya', 'tuyos', 'tuyas', 'suyo', 'suya', 'suyos', 'suyas', 'nuestro', 'nuestra', 'nuestros', 'nuestras', 'vuestro', 'vuestra', 'vuestros', 'vuestras', 'esos', 'esas', 'estoy', 'estás', 'está', 'estamos', 'estáis', 'están', 'esté', 'estés', 'estemos', 'estéis', 'estén', 'estaré', 'estarás', 'estará', 'estaremos', 'estaréis', 'estarán', 'estaría', 'estarías', 'estaríamos', 'estaríais', 'estarían', 'estaba', 'estabas', 'estábamos', 'estabais', 'estaban', 'estuve', 'estuviste', 'estuvo', 'estuvimos', 'estuvisteis', 'estuvieron', 'estuviera', 'estuvieras', 'estuviéramos', 'estuvierais', 'estuvieran', 'estuviese', 'estuvieses', 'estuviésemos', 'estuvieseis', 'estuviesen', 'estando', 'estado', 'estada', 'estados', 'estadas', 'estad', 'he', 'has', 'ha', 'hemos', 'habéis', 'han', 'haya', 'hayas', 'hayamos', 'hayáis', 'hayan', 'habré', 'habrás', 'habrá', 'habremos', 'habréis', 'habrán', 'habría', 'habrías', 'habríamos', 'habríais', 'habrían', 'había', 'habías', 'habíamos', 'habíais', 'habían', 'hube', 'hubiste', 'hubo', 'hubimos', 'hubisteis', 'hubieron', 'hubiera', 'hubieras', 'hubiéramos', 'hubierais', 'hubieran', 'hubiese', 'hubieses', 'hubiésemos', 'hubieseis', 'hubiesen', 'habiendo', 'habido', 'habida', 'habidos', 'habidas', 'soy', 'eres', 'es', 'somos', 'sois', 'son', 'sea', 'seas', 'seamos', 'seáis', 'sean', 'seré', 'serás', 'será', 'seremos', 'seréis', 'serán', 'sería', 'serías', 'seríamos', 'seríais', 'serían', 'era', 'eras', 'éramos', 'erais', 'eran', 'fui', 'fuiste', 'fue', 'fuimos', 'fuisteis', 'fueron', 'fuera', 'fueras', 'fuéramos', 'fuerais', 'fueran', 'fuese', 'fueses', 'fuésemos', 'fueseis', 'fuesen', 'sintiendo', 'sentido', 'sentida', 'sentidos', 'sentidas', 'siente', 'sentid', 'tengo', 'tienes', 'tiene', 'tenemos', 'tenéis', 'tienen', 'tenga', 'tengas', 'tengamos', 'tengáis', 'tengan', 'tendré', 'tendrás', 'tendrá', 'tendremos', 'tendréis', 'tendrán', 'tendría', 'tendrías', 'tendríamos', 'tendríais', 'tendrían', 'tenía', 'tenías', 'teníamos', 'teníais', 'tenían', 'tuve', 'tuviste', 'tuvo', 'tuvimos', 'tuvisteis', 'tuvieron', 'tuviera', 'tuvieras', 'tuviéramos', 'tuvierais', 'tuvieran', 'tuviese', 'tuvieses', 'tuviésemos', 'tuvieseis', 'tuviesen', 'teniendo', 'tenido', 'tenida', 'tenidos', 'tenidas', 'tened']\n"
     ]
    },
    {
     "name": "stderr",
     "output_type": "stream",
     "text": [
      "[nltk_data] Downloading package stopwords to\n",
      "[nltk_data]     C:\\Users\\gmgar\\AppData\\Roaming\\nltk_data...\n",
      "[nltk_data]   Package stopwords is already up-to-date!\n"
     ]
    }
   ],
   "source": [
    "from nltk.corpus import stopwords\n",
    "import nltk\n",
    "\n",
    "nltk.download('stopwords')\n",
    "\n",
    "print(stopwords.words('spanish'))\n"
   ]
  },
  {
   "cell_type": "code",
   "execution_count": 65,
   "metadata": {},
   "outputs": [],
   "source": [
    "textos_compras = ''\n",
    "for row in compras_df['CONCEPTO']:\n",
    "    textos_compras = textos_compras + ' ' +row"
   ]
  },
  {
   "cell_type": "code",
   "execution_count": 66,
   "metadata": {},
   "outputs": [],
   "source": [
    "stopwords_list = stopwords.words('spanish') + ['2022', 'cont', 'millar', 'dpp', 'est', 'op', 'ret', 'mty']"
   ]
  },
  {
   "cell_type": "code",
   "execution_count": 82,
   "metadata": {},
   "outputs": [
    {
     "name": "stdout",
     "output_type": "stream",
     "text": [
      "# packages in environment at C:\\ProgramData\\Anaconda3:\n",
      "#\n",
      "# Name                    Version                   Build  Channel\n",
      "_ipyw_jlab_nb_ext_conf    0.1.0            py39haa95532_0  \n",
      "absl-py                   1.0.0                    pypi_0    pypi\n",
      "alabaster                 0.7.12             pyhd3eb1b0_0  \n",
      "altair                    4.2.0                    pypi_0    pypi\n",
      "anaconda                  2021.11                  py39_0  \n",
      "anaconda-client           1.9.0            py39haa95532_0  \n",
      "anaconda-navigator        2.1.2            py39haa95532_0  \n",
      "anaconda-project          0.10.1             pyhd3eb1b0_0  \n",
      "anyio                     2.2.0            py39haa95532_2  \n",
      "appdirs                   1.4.4              pyhd3eb1b0_0  \n",
      "argh                      0.26.2           py39haa95532_0  \n",
      "argon2-cffi               20.1.0           py39h2bbff1b_1  \n",
      "arrow                     0.13.1           py39haa95532_0  \n",
      "asn1crypto                1.4.0                      py_0  \n",
      "astroid                   2.6.6            py39haa95532_0  \n",
      "astropy                   4.3.1            py39hc7d831d_0  \n",
      "astunparse                1.6.3                    pypi_0    pypi\n",
      "async_generator           1.10               pyhd3eb1b0_0  \n",
      "atomicwrites              1.4.0                      py_0  \n",
      "attrs                     21.2.0             pyhd3eb1b0_0  \n",
      "autopep8                  1.5.7              pyhd3eb1b0_0  \n",
      "babel                     2.9.1              pyhd3eb1b0_0  \n",
      "backcall                  0.2.0              pyhd3eb1b0_0  \n",
      "backports                 1.0                pyhd3eb1b0_2  \n",
      "backports.functools_lru_cache 1.6.4              pyhd3eb1b0_0  \n",
      "Note: you may need to restart the kernel to use updated packages.\n",
      "\n",
      "backports.shutil_get_terminal_size 1.0.0              pyhd3eb1b0_3  \n",
      "backports.tempfile        1.0                pyhd3eb1b0_1  \n",
      "backports.weakref         1.0.post1                  py_1  \n",
      "bcrypt                    3.2.0            py39h196d8e1_0  \n",
      "beautifulsoup4            4.10.0             pyh06a4308_0  \n",
      "binaryornot               0.4.4              pyhd3eb1b0_1  \n",
      "bitarray                  2.3.0            py39h2bbff1b_1  \n",
      "bkcharts                  0.2              py39haa95532_0  \n",
      "black                     19.10b0                    py_0  \n",
      "blas                      1.0                         mkl  \n",
      "bleach                    4.0.0              pyhd3eb1b0_0  \n",
      "blosc                     1.21.0               h19a0ad4_0  \n",
      "bokeh                     2.4.1            py39haa95532_0  \n",
      "boto                      2.49.0           py39haa95532_0  \n",
      "bottleneck                1.3.2            py39h7cc1a96_1  \n",
      "brotli                    1.0.9                ha925a31_2  \n",
      "brotlipy                  0.7.0           py39h2bbff1b_1003  \n",
      "bzip2                     1.0.8                he774522_0  \n",
      "ca-certificates           2021.10.26           haa95532_2  \n",
      "cached-property           1.5.2                      py_0  \n",
      "cachetools                5.0.0                    pypi_0    pypi\n",
      "certifi                   2021.10.8        py39haa95532_0  \n",
      "cffi                      1.14.6           py39h2bbff1b_0  \n",
      "cfitsio                   3.470                he774522_6  \n",
      "chardet                   4.0.0           py39haa95532_1003  \n",
      "charls                    2.2.0                h6c2663c_0  \n",
      "charset-normalizer        2.0.4              pyhd3eb1b0_0  \n",
      "click                     8.0.3              pyhd3eb1b0_0  \n",
      "cloudpickle               2.0.0              pyhd3eb1b0_0  \n",
      "clyent                    1.2.2            py39haa95532_1  \n",
      "colorama                  0.4.4              pyhd3eb1b0_0  \n",
      "comtypes                  1.1.10          py39haa95532_1002  \n",
      "conda                     4.11.0           py39haa95532_0  \n",
      "conda-build               3.21.6           py39haa95532_0  \n",
      "conda-content-trust       0.1.1              pyhd3eb1b0_0  \n",
      "conda-env                 2.6.0                         1  \n",
      "conda-pack                0.6.0              pyhd3eb1b0_0  \n",
      "conda-package-handling    1.7.3            py39h8cc25b3_1  \n",
      "conda-repo-cli            1.0.4              pyhd3eb1b0_0  \n",
      "conda-token               0.3.0              pyhd3eb1b0_0  \n",
      "conda-verify              3.4.2                      py_1  \n",
      "console_shortcut          0.1.1                         4  \n",
      "contextlib2               0.6.0.post1        pyhd3eb1b0_0  \n",
      "cookiecutter              1.7.2              pyhd3eb1b0_0  \n",
      "cryptography              3.4.8            py39h71e12ea_0  \n",
      "curl                      7.78.0               h86230a5_0  \n",
      "cycler                    0.10.0           py39haa95532_0  \n",
      "cython                    0.29.24          py39h604cdb4_0  \n",
      "cytoolz                   0.11.0           py39h2bbff1b_0  \n",
      "daal4py                   2021.3.0         py39h757b272_0  \n",
      "dal                       2021.3.0           haa95532_564  \n",
      "dask                      2021.10.0          pyhd3eb1b0_0  \n",
      "dask-core                 2021.10.0          pyhd3eb1b0_0  \n",
      "dataclasses               0.8                pyh6d0b6a4_7  \n",
      "debugpy                   1.4.1            py39hd77b12b_0  \n",
      "decorator                 5.1.0              pyhd3eb1b0_0  \n",
      "defusedxml                0.7.1              pyhd3eb1b0_0  \n",
      "diff-match-patch          20200713           pyhd3eb1b0_0  \n",
      "distributed               2021.10.0        py39haa95532_0  \n",
      "docutils                  0.17.1           py39haa95532_1  \n",
      "entrypoints               0.3              py39haa95532_0  \n",
      "et_xmlfile                1.1.0            py39haa95532_0  \n",
      "fastcache                 1.1.0            py39h196d8e1_0  \n",
      "filelock                  3.3.1              pyhd3eb1b0_1  \n",
      "flake8                    3.9.2              pyhd3eb1b0_0  \n",
      "flask                     1.1.2              pyhd3eb1b0_0  \n",
      "flatbuffers               2.0                      pypi_0    pypi\n",
      "fonttools                 4.25.0             pyhd3eb1b0_0  \n",
      "freetype                  2.10.4               hd328e21_0  \n",
      "fsspec                    2021.10.1          pyhd3eb1b0_0  \n",
      "future                    0.18.2           py39haa95532_1  \n",
      "gast                      0.5.3                    pypi_0    pypi\n",
      "get_terminal_size         1.0.0                h38e98db_0  \n",
      "gevent                    21.8.0           py39h2bbff1b_1  \n",
      "giflib                    5.2.1                h62dcd97_0  \n",
      "glob2                     0.7                pyhd3eb1b0_0  \n",
      "google                    3.0.0                    pypi_0    pypi\n",
      "google-auth               2.6.5                    pypi_0    pypi\n",
      "google-auth-oauthlib      0.4.6                    pypi_0    pypi\n",
      "google-pasta              0.2.0                    pypi_0    pypi\n",
      "greenlet                  1.1.1            py39hd77b12b_0  \n",
      "grpcio                    1.44.0                   pypi_0    pypi\n",
      "h5py                      3.2.1            py39h3de5c98_0  \n",
      "hdf5                      1.10.6               h7ebc959_0  \n",
      "heapdict                  1.0.1              pyhd3eb1b0_0  \n",
      "html5lib                  1.1                pyhd3eb1b0_0  \n",
      "icc_rt                    2019.0.0             h0cc432a_1  \n",
      "icu                       58.2                 ha925a31_3  \n",
      "idna                      3.2                pyhd3eb1b0_0  \n",
      "imagecodecs               2021.8.26        py39ha1f97ea_0  \n",
      "imageio                   2.9.0              pyhd3eb1b0_0  \n",
      "imagesize                 1.2.0              pyhd3eb1b0_0  \n",
      "importlib-metadata        4.8.1            py39haa95532_0  \n",
      "importlib_metadata        4.8.1                hd3eb1b0_0  \n",
      "inflection                0.5.1            py39haa95532_0  \n",
      "iniconfig                 1.1.1              pyhd3eb1b0_0  \n",
      "intel-openmp              2021.4.0          haa95532_3556  \n",
      "intervaltree              3.1.0              pyhd3eb1b0_0  \n",
      "ipykernel                 6.4.1            py39haa95532_1  \n",
      "ipython                   7.29.0           py39hd4e2768_0  \n",
      "ipython_genutils          0.2.0              pyhd3eb1b0_1  \n",
      "ipywidgets                7.6.5              pyhd3eb1b0_1  \n",
      "isort                     5.9.3              pyhd3eb1b0_0  \n",
      "itsdangerous              2.0.1              pyhd3eb1b0_0  \n",
      "jdcal                     1.4.1              pyhd3eb1b0_0  \n",
      "jedi                      0.18.0           py39haa95532_1  \n",
      "jinja2                    2.11.3             pyhd3eb1b0_0  \n",
      "jinja2-time               0.2.0              pyhd3eb1b0_2  \n",
      "joblib                    1.1.0              pyhd3eb1b0_0  \n",
      "jpeg                      9d                   h2bbff1b_0  \n",
      "json5                     0.9.6              pyhd3eb1b0_0  \n",
      "jsonschema                3.2.0              pyhd3eb1b0_2  \n",
      "jupyter                   1.0.0            py39haa95532_7  \n",
      "jupyter_client            6.1.12             pyhd3eb1b0_0  \n",
      "jupyter_console           6.4.0              pyhd3eb1b0_0  \n",
      "jupyter_core              4.8.1            py39haa95532_0  \n",
      "jupyter_server            1.4.1            py39haa95532_0  \n",
      "jupyterlab                3.2.1              pyhd3eb1b0_1  \n",
      "jupyterlab_pygments       0.1.2                      py_0  \n",
      "jupyterlab_server         2.8.2              pyhd3eb1b0_0  \n",
      "jupyterlab_widgets        1.0.0              pyhd3eb1b0_1  \n",
      "keras                     2.8.0                    pypi_0    pypi\n",
      "keras-preprocessing       1.1.2                    pypi_0    pypi\n",
      "keyring                   23.1.0           py39haa95532_0  \n",
      "kiwisolver                1.3.1            py39hd77b12b_0  \n",
      "krb5                      1.19.2               h5b6d351_0  \n",
      "lazy-object-proxy         1.6.0            py39h2bbff1b_0  \n",
      "lcms2                     2.12                 h83e58a3_0  \n",
      "lerc                      3.0                  hd77b12b_0  \n",
      "libaec                    1.0.4                h33f27b4_1  \n",
      "libarchive                3.4.2                h5e25573_0  \n",
      "libclang                  13.0.0                   pypi_0    pypi\n",
      "libcurl                   7.78.0               h86230a5_0  \n",
      "libdeflate                1.8                  h2bbff1b_5  \n",
      "libiconv                  1.15                 h1df5818_7  \n",
      "liblief                   0.10.1               hd77b12b_1  \n",
      "libpng                    1.6.37               h2a8f88b_0  \n",
      "libspatialindex           1.9.3                h6c2663c_0  \n",
      "libssh2                   1.9.0                h7a1dbc1_1  \n",
      "libtiff                   4.2.0                hd0e1b90_0  \n",
      "libwebp                   1.2.0                h2bbff1b_0  \n",
      "libxml2                   2.9.12               h0ad7f3c_0  \n",
      "libxslt                   1.1.34               he774522_0  \n",
      "libzopfli                 1.0.3                ha925a31_0  \n",
      "llvmlite                  0.37.0           py39h23ce68f_1  \n",
      "locket                    0.2.1            py39haa95532_1  \n",
      "lxml                      4.6.3            py39h9b66d53_0  \n",
      "lz4-c                     1.9.3                h2bbff1b_1  \n",
      "lzo                       2.10                 he774522_2  \n",
      "m2w64-gcc-libgfortran     5.3.0                         6  \n",
      "m2w64-gcc-libs            5.3.0                         7  \n",
      "m2w64-gcc-libs-core       5.3.0                         7  \n",
      "m2w64-gmp                 6.1.0                         2  \n",
      "m2w64-libwinpthread-git   5.0.0.4634.697f757               2  \n",
      "markdown                  3.3.6                    pypi_0    pypi\n",
      "markupsafe                1.1.1            py39h2bbff1b_0  \n",
      "matplotlib                3.4.3            py39haa95532_0  \n",
      "matplotlib-base           3.4.3            py39h49ac443_0  \n",
      "matplotlib-inline         0.1.2              pyhd3eb1b0_2  \n",
      "mccabe                    0.6.1            py39haa95532_1  \n",
      "menuinst                  1.4.18           py39h59b6b97_0  \n",
      "mistune                   0.8.4           py39h2bbff1b_1000  \n",
      "mkl                       2021.4.0           haa95532_640  \n",
      "mkl-service               2.4.0            py39h2bbff1b_0  \n",
      "mkl_fft                   1.3.1            py39h277e83a_0  \n",
      "mkl_random                1.2.2            py39hf11a4ad_0  \n",
      "mock                      4.0.3              pyhd3eb1b0_0  \n",
      "more-itertools            8.10.0             pyhd3eb1b0_0  \n",
      "mpmath                    1.2.1            py39haa95532_0  \n",
      "msgpack-python            1.0.2            py39h59b6b97_1  \n",
      "msys2-conda-epoch         20160418                      1  \n",
      "multipledispatch          0.6.0            py39haa95532_0  \n",
      "munkres                   1.1.4                      py_0  \n",
      "mypy_extensions           0.4.3            py39haa95532_0  \n",
      "navigator-updater         0.2.1            py39haa95532_0  \n",
      "nbclassic                 0.2.6              pyhd3eb1b0_0  \n",
      "nbclient                  0.5.3              pyhd3eb1b0_0  \n",
      "nbconvert                 6.1.0            py39haa95532_0  \n",
      "nbformat                  5.1.3              pyhd3eb1b0_0  \n",
      "nest-asyncio              1.5.1              pyhd3eb1b0_0  \n",
      "networkx                  2.6.3              pyhd3eb1b0_0  \n",
      "nltk                      3.6.5              pyhd3eb1b0_0  \n",
      "nose                      1.3.7           pyhd3eb1b0_1006  \n",
      "notebook                  6.4.5            py39haa95532_0  \n",
      "numba                     0.54.1           py39hf11a4ad_0  \n",
      "numexpr                   2.7.3            py39hb80d3ca_1  \n",
      "numpy                     1.20.3           py39ha4e8547_0  \n",
      "numpy-base                1.20.3           py39hc2deb75_0  \n",
      "numpydoc                  1.1.0              pyhd3eb1b0_1  \n",
      "oauthlib                  3.2.0                    pypi_0    pypi\n",
      "olefile                   0.46               pyhd3eb1b0_0  \n",
      "openjpeg                  2.4.0                h4fc8c34_0  \n",
      "openpyxl                  3.0.9              pyhd3eb1b0_0  \n",
      "openssl                   1.1.1l               h2bbff1b_0  \n",
      "opt-einsum                3.3.0                    pypi_0    pypi\n",
      "packaging                 21.0               pyhd3eb1b0_0  \n",
      "pandas                    1.3.4            py39h6214cd6_0  \n",
      "pandocfilters             1.4.3            py39haa95532_1  \n",
      "paramiko                  2.7.2                      py_0  \n",
      "parso                     0.8.2                    pypi_0    pypi\n",
      "partd                     1.2.0              pyhd3eb1b0_0  \n",
      "path                      16.0.0           py39haa95532_0  \n",
      "path.py                   12.5.0               hd3eb1b0_0  \n",
      "pathlib2                  2.3.6            py39haa95532_2  \n",
      "pathspec                  0.7.0                      py_0  \n",
      "patsy                     0.5.2            py39haa95532_0  \n",
      "pep8                      1.7.1            py39haa95532_0  \n",
      "pexpect                   4.8.0              pyhd3eb1b0_3  \n",
      "pickleshare               0.7.5           pyhd3eb1b0_1003  \n",
      "pillow                    8.4.0            py39hd45dc43_0  \n",
      "pip                       21.2.4           py39haa95532_0  \n",
      "pkginfo                   1.7.1            py39haa95532_0  \n",
      "plotly                    5.6.0                    pypi_0    pypi\n",
      "pluggy                    0.13.1           py39haa95532_0  \n",
      "ply                       3.11             py39haa95532_0  \n",
      "powershell_shortcut       0.0.1                         3  \n",
      "poyo                      0.5.0              pyhd3eb1b0_0  \n",
      "prometheus_client         0.11.0             pyhd3eb1b0_0  \n",
      "prompt-toolkit            3.0.20             pyhd3eb1b0_0  \n",
      "prompt_toolkit            3.0.20               hd3eb1b0_0  \n",
      "protobuf                  3.20.0                   pypi_0    pypi\n",
      "psutil                    5.8.0            py39h2bbff1b_1  \n",
      "psycopg2                  2.9.3                    pypi_0    pypi\n",
      "ptyprocess                0.7.0              pyhd3eb1b0_2  \n",
      "py                        1.10.0             pyhd3eb1b0_0  \n",
      "py-lief                   0.10.1           py39hd77b12b_1  \n",
      "pyasn1                    0.4.8                    pypi_0    pypi\n",
      "pyasn1-modules            0.2.8                    pypi_0    pypi\n",
      "pycodestyle               2.7.0              pyhd3eb1b0_0  \n",
      "pycosat                   0.6.3            py39h2bbff1b_0  \n",
      "pycparser                 2.20                       py_2  \n",
      "pycurl                    7.44.1           py39hcd4344a_1  \n",
      "pydocstyle                6.1.1              pyhd3eb1b0_0  \n",
      "pydotplus                 2.0.2                    pypi_0    pypi\n",
      "pyerfa                    2.0.0            py39h2bbff1b_0  \n",
      "pyflakes                  2.3.1              pyhd3eb1b0_0  \n",
      "pygments                  2.10.0             pyhd3eb1b0_0  \n",
      "pyjwt                     2.1.0            py39haa95532_0  \n",
      "pylint                    2.9.6            py39haa95532_1  \n",
      "pyls-spyder               0.4.0              pyhd3eb1b0_0  \n",
      "pynacl                    1.4.0            py39hbd8134f_1  \n",
      "pyodbc                    4.0.31           py39hd77b12b_0  \n",
      "pyopenssl                 21.0.0             pyhd3eb1b0_1  \n",
      "pyparsing                 3.0.4              pyhd3eb1b0_0  \n",
      "pyqt                      5.9.2            py39hd77b12b_6  \n",
      "pyreadline                2.1              py39haa95532_1  \n",
      "pyrsistent                0.18.0           py39h196d8e1_0  \n",
      "pysocks                   1.7.1            py39haa95532_0  \n",
      "pytables                  3.6.1            py39h56d22b6_1  \n",
      "pytest                    6.2.4            py39haa95532_2  \n",
      "python                    3.9.7                h6244533_1  \n",
      "python-dateutil           2.8.2              pyhd3eb1b0_0  \n",
      "python-libarchive-c       2.9                pyhd3eb1b0_1  \n",
      "python-lsp-black          1.0.0              pyhd3eb1b0_0  \n",
      "python-lsp-jsonrpc        1.0.0              pyhd3eb1b0_0  \n",
      "python-lsp-server         1.2.4              pyhd3eb1b0_0  \n",
      "python-slugify            5.0.2              pyhd3eb1b0_0  \n",
      "pytz                      2021.3             pyhd3eb1b0_0  \n",
      "pywavelets                1.1.1            py39h080aedc_4  \n",
      "pywin32                   228              py39he774522_0  \n",
      "pywin32-ctypes            0.2.0           py39haa95532_1000  \n",
      "pywinpty                  0.5.7            py39haa95532_0  \n",
      "pyyaml                    6.0              py39h2bbff1b_1  \n",
      "pyzmq                     22.2.1           py39hd77b12b_1  \n",
      "qdarkstyle                3.0.2              pyhd3eb1b0_0  \n",
      "qstylizer                 0.1.10             pyhd3eb1b0_0  \n",
      "qt                        5.9.7            vc14h73c81de_0  \n",
      "qtawesome                 1.0.2              pyhd3eb1b0_0  \n",
      "qtconsole                 5.1.1              pyhd3eb1b0_0  \n",
      "qtpy                      1.10.0             pyhd3eb1b0_0  \n",
      "quandl                    3.7.0                    pypi_0    pypi\n",
      "regex                     2021.8.3         py39h2bbff1b_0  \n",
      "requests                  2.26.0             pyhd3eb1b0_0  \n",
      "requests-oauthlib         1.3.1                    pypi_0    pypi\n",
      "rope                      0.19.0             pyhd3eb1b0_0  \n",
      "rsa                       4.8                      pypi_0    pypi\n",
      "rtree                     0.9.7            py39h2eaa2aa_1  \n",
      "ruamel_yaml               0.15.100         py39h2bbff1b_0  \n",
      "scikit-image              0.18.3           py39hf11a4ad_0  \n",
      "scikit-learn              0.24.2           py39hf11a4ad_1  \n",
      "scikit-learn-intelex      2021.3.0         py39haa95532_0  \n",
      "scipy                     1.7.1            py39hbe87c03_2  \n",
      "seaborn                   0.11.2             pyhd3eb1b0_0  \n",
      "send2trash                1.8.0              pyhd3eb1b0_1  \n",
      "setuptools                58.0.4           py39haa95532_0  \n",
      "simplegeneric             0.8.1            py39haa95532_2  \n",
      "singledispatch            3.7.0           pyhd3eb1b0_1001  \n",
      "sip                       4.19.13          py39hd77b12b_0  \n",
      "six                       1.16.0             pyhd3eb1b0_0  \n",
      "snappy                    1.1.8                h33f27b4_0  \n",
      "sniffio                   1.2.0            py39haa95532_1  \n",
      "snowballstemmer           2.1.0              pyhd3eb1b0_0  \n",
      "sortedcollections         2.1.0              pyhd3eb1b0_0  \n",
      "sortedcontainers          2.4.0              pyhd3eb1b0_0  \n",
      "soupsieve                 2.2.1              pyhd3eb1b0_0  \n",
      "sphinx                    4.2.0              pyhd3eb1b0_1  \n",
      "sphinxcontrib             1.0              py39haa95532_1  \n",
      "sphinxcontrib-applehelp   1.0.2              pyhd3eb1b0_0  \n",
      "sphinxcontrib-devhelp     1.0.2              pyhd3eb1b0_0  \n",
      "sphinxcontrib-htmlhelp    2.0.0              pyhd3eb1b0_0  \n",
      "sphinxcontrib-jsmath      1.0.1              pyhd3eb1b0_0  \n",
      "sphinxcontrib-qthelp      1.0.3              pyhd3eb1b0_0  \n",
      "sphinxcontrib-serializinghtml 1.1.5              pyhd3eb1b0_0  \n",
      "sphinxcontrib-websupport  1.2.4                      py_0  \n",
      "spyder                    5.1.5            py39haa95532_1  \n",
      "spyder-kernels            2.1.3            py39haa95532_0  \n",
      "sqlalchemy                1.4.22           py39h2bbff1b_0  \n",
      "sqlite                    3.36.0               h2bbff1b_0  \n",
      "statsmodels               0.12.2           py39h2bbff1b_0  \n",
      "sympy                     1.9              py39haa95532_0  \n",
      "tbb                       2021.4.0             h59b6b97_0  \n",
      "tbb4py                    2021.4.0         py39h59b6b97_0  \n",
      "tblib                     1.7.0              pyhd3eb1b0_0  \n",
      "tenacity                  8.0.1                    pypi_0    pypi\n",
      "tensorboard               2.8.0                    pypi_0    pypi\n",
      "tensorboard-data-server   0.6.1                    pypi_0    pypi\n",
      "tensorboard-plugin-wit    1.8.1                    pypi_0    pypi\n",
      "tensorflow                2.8.0                    pypi_0    pypi\n",
      "tensorflow-io-gcs-filesystem 0.24.0                   pypi_0    pypi\n",
      "termcolor                 1.1.0                    pypi_0    pypi\n",
      "terminado                 0.9.4            py39haa95532_0  \n",
      "testpath                  0.5.0              pyhd3eb1b0_0  \n",
      "text-unidecode            1.3                pyhd3eb1b0_0  \n",
      "textdistance              4.2.1              pyhd3eb1b0_0  \n",
      "tf-estimator-nightly      2.8.0.dev2021122109          pypi_0    pypi\n",
      "threadpoolctl             2.2.0              pyh0d69192_0  \n",
      "three-merge               0.1.1              pyhd3eb1b0_0  \n",
      "tifffile                  2021.7.2           pyhd3eb1b0_2  \n",
      "tinycss                   0.4             pyhd3eb1b0_1002  \n",
      "tk                        8.6.11               h2bbff1b_0  \n",
      "toml                      0.10.2             pyhd3eb1b0_0  \n",
      "toolz                     0.11.1             pyhd3eb1b0_0  \n",
      "tornado                   6.1              py39h2bbff1b_0  \n",
      "tqdm                      4.62.3             pyhd3eb1b0_1  \n",
      "traitlets                 5.1.0              pyhd3eb1b0_0  \n",
      "typed-ast                 1.4.3            py39h2bbff1b_1  \n",
      "typing_extensions         3.10.0.2           pyh06a4308_0  \n",
      "tzdata                    2021e                hda174b7_0  \n",
      "ujson                     4.0.2            py39hd77b12b_0  \n",
      "unicodecsv                0.14.1           py39haa95532_0  \n",
      "unidecode                 1.2.0              pyhd3eb1b0_0  \n",
      "urllib3                   1.26.7             pyhd3eb1b0_0  \n",
      "vc                        14.2                 h21ff451_1  \n",
      "vs2015_runtime            14.27.29016          h5e58377_2  \n",
      "watchdog                  2.1.3            py39haa95532_0  \n",
      "wcwidth                   0.2.5              pyhd3eb1b0_0  \n",
      "webencodings              0.5.1            py39haa95532_1  \n",
      "werkzeug                  2.0.2              pyhd3eb1b0_0  \n",
      "wheel                     0.37.0             pyhd3eb1b0_1  \n",
      "whichcraft                0.6.1              pyhd3eb1b0_0  \n",
      "widgetsnbextension        3.5.1            py39haa95532_0  \n",
      "win_inet_pton             1.1.0            py39haa95532_0  \n",
      "win_unicode_console       0.5              py39haa95532_0  \n",
      "wincertstore              0.2              py39haa95532_2  \n",
      "winpty                    0.4.3                         4  \n",
      "wrapt                     1.12.1           py39h196d8e1_1  \n",
      "xlrd                      2.0.1              pyhd3eb1b0_0  \n",
      "xlsxwriter                3.0.1              pyhd3eb1b0_0  \n",
      "xlwings                   0.24.9           py39haa95532_0  \n",
      "xlwt                      1.3.0            py39haa95532_0  \n",
      "xmltodict                 0.12.0             pyhd3eb1b0_0  \n",
      "xz                        5.2.5                h62dcd97_0  \n",
      "yaml                      0.2.5                he774522_0  \n",
      "yapf                      0.31.0             pyhd3eb1b0_0  \n",
      "zfp                       0.5.5                hd77b12b_6  \n",
      "zict                      2.0.0              pyhd3eb1b0_0  \n",
      "zipp                      3.6.0              pyhd3eb1b0_0  \n",
      "zlib                      1.2.11               h62dcd97_4  \n",
      "zope                      1.0              py39haa95532_1  \n",
      "zope.event                4.5.0            py39haa95532_0  \n",
      "zope.interface            5.4.0            py39h2bbff1b_0  \n",
      "zstd                      1.4.9                h19a0ad4_0  \n"
     ]
    }
   ],
   "source": [
    "%conda list"
   ]
  },
  {
   "cell_type": "code",
   "execution_count": 81,
   "metadata": {},
   "outputs": [
    {
     "ename": "ModuleNotFoundError",
     "evalue": "No module named 'wordcloud'",
     "output_type": "error",
     "traceback": [
      "\u001b[1;31m---------------------------------------------------------------------------\u001b[0m",
      "\u001b[1;31mModuleNotFoundError\u001b[0m                       Traceback (most recent call last)",
      "\u001b[1;32m~\\AppData\\Local\\Temp/ipykernel_12676/13153550.py\u001b[0m in \u001b[0;36m<module>\u001b[1;34m\u001b[0m\n\u001b[1;32m----> 1\u001b[1;33m \u001b[1;32mfrom\u001b[0m \u001b[0mwordcloud\u001b[0m \u001b[1;32mimport\u001b[0m \u001b[0mWordCloud\u001b[0m\u001b[1;33m\u001b[0m\u001b[1;33m\u001b[0m\u001b[0m\n\u001b[0m\u001b[0;32m      2\u001b[0m \u001b[1;32mimport\u001b[0m \u001b[0mmatplotlib\u001b[0m\u001b[1;33m.\u001b[0m\u001b[0mpyplot\u001b[0m \u001b[1;32mas\u001b[0m \u001b[0mplt\u001b[0m\u001b[1;33m\u001b[0m\u001b[1;33m\u001b[0m\u001b[0m\n",
      "\u001b[1;31mModuleNotFoundError\u001b[0m: No module named 'wordcloud'"
     ]
    }
   ],
   "source": [
    "from wordcloud import WordCloud\n",
    "import matplotlib.pyplot as plt"
   ]
  },
  {
   "cell_type": "code",
   "execution_count": null,
   "metadata": {},
   "outputs": [],
   "source": [
    "WC = WordCloud(background_color='white')\n",
    "WC.generate(textos_compras)\n",
    "\n",
    "plt.axis('off')\n",
    "plt.imshow(WC, interpolation='bilinear')\n",
    "plt.show()"
   ]
  },
  {
   "cell_type": "code",
   "execution_count": null,
   "metadata": {},
   "outputs": [],
   "source": [
    "# quitamos los stopwords\n",
    "textos_compras = ' '.join([x for x in textos_compras.split().lower().split(' ') if x not in stopwords_list and len(x) > 4])"
   ]
  },
  {
   "cell_type": "code",
   "execution_count": null,
   "metadata": {},
   "outputs": [],
   "source": [
    "WC = WordCloud(background_color='white')\n",
    "WC.generate(textos_compras)\n",
    "\n",
    "plt.axis('off')\n",
    "plt.imshow(WC, interpolation='bilinear')\n",
    "plt.show()"
   ]
  }
 ],
 "metadata": {
  "interpreter": {
   "hash": "b3ba2566441a7c06988d0923437866b63cedc61552a5af99d1f4fb67d367b25f"
  },
  "kernelspec": {
   "display_name": "Python 3.9.7 ('base')",
   "language": "python",
   "name": "python3"
  },
  "language_info": {
   "codemirror_mode": {
    "name": "ipython",
    "version": 3
   },
   "file_extension": ".py",
   "mimetype": "text/x-python",
   "name": "python",
   "nbconvert_exporter": "python",
   "pygments_lexer": "ipython3",
   "version": "3.9.7"
  },
  "orig_nbformat": 4
 },
 "nbformat": 4,
 "nbformat_minor": 2
}
