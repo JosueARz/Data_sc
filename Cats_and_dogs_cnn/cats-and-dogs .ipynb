{
 "cells": [
  {
   "cell_type": "code",
   "execution_count": 1,
   "id": "fa194543",
   "metadata": {
    "execution": {
     "iopub.execute_input": "2022-06-06T12:21:08.390958Z",
     "iopub.status.busy": "2022-06-06T12:21:08.390504Z",
     "iopub.status.idle": "2022-06-06T12:21:15.025441Z",
     "shell.execute_reply": "2022-06-06T12:21:15.024644Z"
    },
    "papermill": {
     "duration": 6.64287,
     "end_time": "2022-06-06T12:21:15.028146",
     "exception": false,
     "start_time": "2022-06-06T12:21:08.385276",
     "status": "completed"
    },
    "tags": []
   },
   "outputs": [],
   "source": [
    "import tensorflow as tf\n",
    "from tensorflow.keras.layers import Conv2D, MaxPooling2D, Dropout, Flatten, Dense\n",
    "from tensorflow.keras.preprocessing.image import ImageDataGenerator\n",
    "from tensorflow.keras.callbacks import ModelCheckpoint, EarlyStopping\n",
    "from tensorflow.keras import models, optimizers, regularizers"
   ]
  },
  {
   "cell_type": "code",
   "execution_count": 2,
   "id": "a605dd7a",
   "metadata": {
    "execution": {
     "iopub.execute_input": "2022-06-06T12:21:15.038777Z",
     "iopub.status.busy": "2022-06-06T12:21:15.037270Z",
     "iopub.status.idle": "2022-06-06T12:21:15.421559Z",
     "shell.execute_reply": "2022-06-06T12:21:15.420495Z"
    },
    "papermill": {
     "duration": 0.390778,
     "end_time": "2022-06-06T12:21:15.424162",
     "exception": false,
     "start_time": "2022-06-06T12:21:15.033384",
     "status": "completed"
    },
    "tags": []
   },
   "outputs": [
    {
     "name": "stderr",
     "output_type": "stream",
     "text": [
      "2022-06-06 12:21:15.073840: I tensorflow/core/common_runtime/process_util.cc:146] Creating new thread pool with default inter op setting: 2. Tune using inter_op_parallelism_threads for best performance.\n"
     ]
    },
    {
     "name": "stdout",
     "output_type": "stream",
     "text": [
      "Model: \"sequential\"\n",
      "_________________________________________________________________\n",
      "Layer (type)                 Output Shape              Param #   \n",
      "=================================================================\n",
      "conv2d (Conv2D)              (None, 148, 148, 32)      896       \n",
      "_________________________________________________________________\n",
      "max_pooling2d (MaxPooling2D) (None, 74, 74, 32)        0         \n",
      "_________________________________________________________________\n",
      "conv2d_1 (Conv2D)            (None, 72, 72, 64)        18496     \n",
      "_________________________________________________________________\n",
      "max_pooling2d_1 (MaxPooling2 (None, 36, 36, 64)        0         \n",
      "_________________________________________________________________\n",
      "conv2d_2 (Conv2D)            (None, 34, 34, 128)       73856     \n",
      "_________________________________________________________________\n",
      "max_pooling2d_2 (MaxPooling2 (None, 17, 17, 128)       0         \n",
      "_________________________________________________________________\n",
      "conv2d_3 (Conv2D)            (None, 15, 15, 256)       295168    \n",
      "_________________________________________________________________\n",
      "max_pooling2d_3 (MaxPooling2 (None, 7, 7, 256)         0         \n",
      "_________________________________________________________________\n",
      "flatten (Flatten)            (None, 12544)             0         \n",
      "_________________________________________________________________\n",
      "dropout (Dropout)            (None, 12544)             0         \n",
      "_________________________________________________________________\n",
      "dense (Dense)                (None, 512)               6423040   \n",
      "_________________________________________________________________\n",
      "dense_1 (Dense)              (None, 1)                 513       \n",
      "=================================================================\n",
      "Total params: 6,811,969\n",
      "Trainable params: 6,811,969\n",
      "Non-trainable params: 0\n",
      "_________________________________________________________________\n"
     ]
    }
   ],
   "source": [
    "model = models.Sequential()\n",
    "model.add(Conv2D(32, (3,3), activation='relu', input_shape=(150,150,3)))\n",
    "model.add(MaxPooling2D(2,2))\n",
    "\n",
    "model.add(Conv2D(64, (3,3), activation='relu'))\n",
    "model.add(MaxPooling2D(2,2))\n",
    "\n",
    "model.add(Conv2D(128, (3,3), activation='relu'))\n",
    "model.add(MaxPooling2D(2,2))\n",
    "\n",
    "model.add(Conv2D(256, (3,3), activation='relu'))\n",
    "model.add(MaxPooling2D(2,2))\n",
    "\n",
    "model.add(Flatten())\n",
    "model.add(Dropout(0.5))\n",
    "model.add(Dense(512, activation='relu'))\n",
    "model.add(Dense(1, activation='sigmoid'))\n",
    "\n",
    "model.summary()\n"
   ]
  },
  {
   "cell_type": "code",
   "execution_count": 3,
   "id": "d8a5bd43",
   "metadata": {
    "execution": {
     "iopub.execute_input": "2022-06-06T12:21:15.432420Z",
     "iopub.status.busy": "2022-06-06T12:21:15.432036Z",
     "iopub.status.idle": "2022-06-06T12:21:15.436893Z",
     "shell.execute_reply": "2022-06-06T12:21:15.436004Z"
    },
    "papermill": {
     "duration": 0.010674,
     "end_time": "2022-06-06T12:21:15.438618",
     "exception": false,
     "start_time": "2022-06-06T12:21:15.427944",
     "status": "completed"
    },
    "tags": []
   },
   "outputs": [],
   "source": [
    "train_data_generator = ImageDataGenerator(\n",
    "    rescale=1./255,\n",
    "    rotation_range=40,\n",
    "    width_shift_range=0.2,\n",
    "    height_shift_range=0.2,\n",
    "    shear_range=0.2,\n",
    "    zoom_range=0.2,\n",
    "    horizontal_flip=True\n",
    ")"
   ]
  },
  {
   "cell_type": "code",
   "execution_count": 4,
   "id": "3341065a",
   "metadata": {
    "execution": {
     "iopub.execute_input": "2022-06-06T12:21:15.445869Z",
     "iopub.status.busy": "2022-06-06T12:21:15.445537Z",
     "iopub.status.idle": "2022-06-06T12:21:15.449702Z",
     "shell.execute_reply": "2022-06-06T12:21:15.449105Z"
    },
    "papermill": {
     "duration": 0.009661,
     "end_time": "2022-06-06T12:21:15.451293",
     "exception": false,
     "start_time": "2022-06-06T12:21:15.441632",
     "status": "completed"
    },
    "tags": []
   },
   "outputs": [],
   "source": [
    "test_datagen=ImageDataGenerator(rescale=1./255)"
   ]
  },
  {
   "cell_type": "code",
   "execution_count": 5,
   "id": "cbc7a624",
   "metadata": {
    "execution": {
     "iopub.execute_input": "2022-06-06T12:21:15.458993Z",
     "iopub.status.busy": "2022-06-06T12:21:15.458565Z",
     "iopub.status.idle": "2022-06-06T12:21:16.294067Z",
     "shell.execute_reply": "2022-06-06T12:21:16.293210Z"
    },
    "papermill": {
     "duration": 0.841814,
     "end_time": "2022-06-06T12:21:16.296084",
     "exception": false,
     "start_time": "2022-06-06T12:21:15.454270",
     "status": "completed"
    },
    "tags": []
   },
   "outputs": [
    {
     "name": "stdout",
     "output_type": "stream",
     "text": [
      "Found 2000 images belonging to 2 classes.\n",
      "Found 1000 images belonging to 2 classes.\n"
     ]
    }
   ],
   "source": [
    "train_generator= train_data_generator.flow_from_directory('../input/cnn-data-sources/cats_and_dogs/train',\n",
    "                                 target_size=(150,150),\n",
    "                                 batch_size=32,\n",
    "                                 class_mode='binary')\n",
    "\n",
    "validation_generator= test_datagen.flow_from_directory('../input/cnn-data-sources/cats_and_dogs/validation',\n",
    "                                 target_size=(150,150),\n",
    "                                 batch_size=32,\n",
    "                                 class_mode='binary')"
   ]
  },
  {
   "cell_type": "code",
   "execution_count": 6,
   "id": "4c9fe936",
   "metadata": {
    "execution": {
     "iopub.execute_input": "2022-06-06T12:21:16.304595Z",
     "iopub.status.busy": "2022-06-06T12:21:16.303981Z",
     "iopub.status.idle": "2022-06-06T12:21:16.308395Z",
     "shell.execute_reply": "2022-06-06T12:21:16.307555Z"
    },
    "papermill": {
     "duration": 0.010404,
     "end_time": "2022-06-06T12:21:16.310228",
     "exception": false,
     "start_time": "2022-06-06T12:21:16.299824",
     "status": "completed"
    },
    "tags": []
   },
   "outputs": [],
   "source": [
    "checkpoint = ModelCheckpoint('modelo_perro_gato.hdf5', monitor='val_accuracy', \n",
    "                             verbose = 1, save_best_only=True)"
   ]
  },
  {
   "cell_type": "code",
   "execution_count": 7,
   "id": "067be3a4",
   "metadata": {
    "execution": {
     "iopub.execute_input": "2022-06-06T12:21:16.318717Z",
     "iopub.status.busy": "2022-06-06T12:21:16.317877Z",
     "iopub.status.idle": "2022-06-06T12:21:16.331468Z",
     "shell.execute_reply": "2022-06-06T12:21:16.330438Z"
    },
    "papermill": {
     "duration": 0.020045,
     "end_time": "2022-06-06T12:21:16.333669",
     "exception": false,
     "start_time": "2022-06-06T12:21:16.313624",
     "status": "completed"
    },
    "tags": []
   },
   "outputs": [],
   "source": [
    "model.compile(loss='binary_crossentropy', optimizer=optimizers.Adam(),\n",
    "              metrics=['accuracy'])"
   ]
  },
  {
   "cell_type": "code",
   "execution_count": 8,
   "id": "f54bffe6",
   "metadata": {
    "execution": {
     "iopub.execute_input": "2022-06-06T12:21:16.341712Z",
     "iopub.status.busy": "2022-06-06T12:21:16.341332Z",
     "iopub.status.idle": "2022-06-06T14:28:57.897430Z",
     "shell.execute_reply": "2022-06-06T14:28:57.894769Z"
    },
    "papermill": {
     "duration": 7661.563642,
     "end_time": "2022-06-06T14:28:57.900634",
     "exception": false,
     "start_time": "2022-06-06T12:21:16.336992",
     "status": "completed"
    },
    "tags": []
   },
   "outputs": [
    {
     "name": "stderr",
     "output_type": "stream",
     "text": [
      "2022-06-06 12:21:16.864494: I tensorflow/compiler/mlir/mlir_graph_optimization_pass.cc:185] None of the MLIR Optimization Passes are enabled (registered 2)\n"
     ]
    },
    {
     "name": "stdout",
     "output_type": "stream",
     "text": [
      "Epoch 1/100\n",
      "62/62 [==============================] - 61s 965ms/step - loss: 0.6971 - accuracy: 0.5117 - val_loss: 0.6897 - val_accuracy: 0.4990\n",
      "\n",
      "Epoch 00001: val_accuracy improved from -inf to 0.49899, saving model to modelo_perro_gato.hdf5\n",
      "Epoch 2/100\n",
      "62/62 [==============================] - 50s 804ms/step - loss: 0.6941 - accuracy: 0.4898 - val_loss: 0.6930 - val_accuracy: 0.4980\n",
      "\n",
      "Epoch 00002: val_accuracy did not improve from 0.49899\n",
      "Epoch 3/100\n",
      "62/62 [==============================] - 50s 805ms/step - loss: 0.6929 - accuracy: 0.4949 - val_loss: 0.6920 - val_accuracy: 0.5010\n",
      "\n",
      "Epoch 00003: val_accuracy improved from 0.49899 to 0.50101, saving model to modelo_perro_gato.hdf5\n",
      "Epoch 4/100\n",
      "62/62 [==============================] - 50s 807ms/step - loss: 0.6923 - accuracy: 0.5101 - val_loss: 0.6887 - val_accuracy: 0.5000\n",
      "\n",
      "Epoch 00004: val_accuracy did not improve from 0.50101\n",
      "Epoch 5/100\n",
      "62/62 [==============================] - 50s 803ms/step - loss: 0.6894 - accuracy: 0.5269 - val_loss: 0.6742 - val_accuracy: 0.5544\n",
      "\n",
      "Epoch 00005: val_accuracy improved from 0.50101 to 0.55444, saving model to modelo_perro_gato.hdf5\n",
      "Epoch 6/100\n",
      "62/62 [==============================] - 50s 798ms/step - loss: 0.6766 - accuracy: 0.5803 - val_loss: 0.6451 - val_accuracy: 0.6190\n",
      "\n",
      "Epoch 00006: val_accuracy improved from 0.55444 to 0.61895, saving model to modelo_perro_gato.hdf5\n",
      "Epoch 7/100\n",
      "62/62 [==============================] - 50s 803ms/step - loss: 0.6686 - accuracy: 0.5864 - val_loss: 0.6557 - val_accuracy: 0.5655\n",
      "\n",
      "Epoch 00007: val_accuracy did not improve from 0.61895\n",
      "Epoch 8/100\n",
      "62/62 [==============================] - 49s 797ms/step - loss: 0.6650 - accuracy: 0.6153 - val_loss: 0.6656 - val_accuracy: 0.5645\n",
      "\n",
      "Epoch 00008: val_accuracy did not improve from 0.61895\n",
      "Epoch 9/100\n",
      "62/62 [==============================] - 50s 801ms/step - loss: 0.6805 - accuracy: 0.5711 - val_loss: 0.6616 - val_accuracy: 0.5988\n",
      "\n",
      "Epoch 00009: val_accuracy did not improve from 0.61895\n",
      "Epoch 10/100\n",
      "62/62 [==============================] - 50s 804ms/step - loss: 0.6688 - accuracy: 0.5910 - val_loss: 0.7328 - val_accuracy: 0.5101\n",
      "\n",
      "Epoch 00010: val_accuracy did not improve from 0.61895\n",
      "Epoch 11/100\n",
      "62/62 [==============================] - 51s 814ms/step - loss: 0.6702 - accuracy: 0.5960 - val_loss: 0.6557 - val_accuracy: 0.5847\n",
      "\n",
      "Epoch 00011: val_accuracy did not improve from 0.61895\n",
      "Epoch 12/100\n",
      "62/62 [==============================] - 50s 801ms/step - loss: 0.6533 - accuracy: 0.6209 - val_loss: 0.6449 - val_accuracy: 0.6552\n",
      "\n",
      "Epoch 00012: val_accuracy improved from 0.61895 to 0.65524, saving model to modelo_perro_gato.hdf5\n",
      "Epoch 13/100\n",
      "62/62 [==============================] - 49s 796ms/step - loss: 0.6340 - accuracy: 0.6423 - val_loss: 0.5933 - val_accuracy: 0.6845\n",
      "\n",
      "Epoch 00013: val_accuracy improved from 0.65524 to 0.68448, saving model to modelo_perro_gato.hdf5\n",
      "Epoch 14/100\n",
      "62/62 [==============================] - 50s 803ms/step - loss: 0.6151 - accuracy: 0.6596 - val_loss: 0.6153 - val_accuracy: 0.6704\n",
      "\n",
      "Epoch 00014: val_accuracy did not improve from 0.68448\n",
      "Epoch 15/100\n",
      "62/62 [==============================] - 49s 796ms/step - loss: 0.6050 - accuracy: 0.6839 - val_loss: 0.6232 - val_accuracy: 0.6381\n",
      "\n",
      "Epoch 00015: val_accuracy did not improve from 0.68448\n",
      "Epoch 16/100\n",
      "62/62 [==============================] - 50s 807ms/step - loss: 0.6138 - accuracy: 0.6545 - val_loss: 0.6101 - val_accuracy: 0.6804\n",
      "\n",
      "Epoch 00016: val_accuracy did not improve from 0.68448\n",
      "Epoch 17/100\n",
      "62/62 [==============================] - 50s 808ms/step - loss: 0.5954 - accuracy: 0.6784 - val_loss: 0.5882 - val_accuracy: 0.6875\n",
      "\n",
      "Epoch 00017: val_accuracy improved from 0.68448 to 0.68750, saving model to modelo_perro_gato.hdf5\n",
      "Epoch 18/100\n",
      "62/62 [==============================] - 50s 808ms/step - loss: 0.5855 - accuracy: 0.7033 - val_loss: 0.5782 - val_accuracy: 0.6946\n",
      "\n",
      "Epoch 00018: val_accuracy improved from 0.68750 to 0.69456, saving model to modelo_perro_gato.hdf5\n",
      "Epoch 19/100\n",
      "62/62 [==============================] - 50s 811ms/step - loss: 0.5885 - accuracy: 0.6946 - val_loss: 0.5660 - val_accuracy: 0.7147\n",
      "\n",
      "Epoch 00019: val_accuracy improved from 0.69456 to 0.71472, saving model to modelo_perro_gato.hdf5\n",
      "Epoch 20/100\n",
      "62/62 [==============================] - 50s 804ms/step - loss: 0.5741 - accuracy: 0.7007 - val_loss: 0.5666 - val_accuracy: 0.7137\n",
      "\n",
      "Epoch 00020: val_accuracy did not improve from 0.71472\n",
      "Epoch 21/100\n",
      "62/62 [==============================] - 50s 799ms/step - loss: 0.5660 - accuracy: 0.7119 - val_loss: 0.5448 - val_accuracy: 0.7188\n",
      "\n",
      "Epoch 00021: val_accuracy improved from 0.71472 to 0.71875, saving model to modelo_perro_gato.hdf5\n",
      "Epoch 22/100\n",
      "62/62 [==============================] - 50s 807ms/step - loss: 0.5605 - accuracy: 0.7078 - val_loss: 0.5329 - val_accuracy: 0.7167\n",
      "\n",
      "Epoch 00022: val_accuracy did not improve from 0.71875\n",
      "Epoch 23/100\n",
      "62/62 [==============================] - 49s 792ms/step - loss: 0.5636 - accuracy: 0.7007 - val_loss: 0.5410 - val_accuracy: 0.7329\n",
      "\n",
      "Epoch 00023: val_accuracy improved from 0.71875 to 0.73286, saving model to modelo_perro_gato.hdf5\n",
      "Epoch 24/100\n",
      "62/62 [==============================] - 50s 800ms/step - loss: 0.5418 - accuracy: 0.7353 - val_loss: 0.5291 - val_accuracy: 0.7238\n",
      "\n",
      "Epoch 00024: val_accuracy did not improve from 0.73286\n",
      "Epoch 25/100\n",
      "62/62 [==============================] - 49s 794ms/step - loss: 0.5392 - accuracy: 0.7373 - val_loss: 0.5697 - val_accuracy: 0.7228\n",
      "\n",
      "Epoch 00025: val_accuracy did not improve from 0.73286\n",
      "Epoch 26/100\n",
      "62/62 [==============================] - 50s 803ms/step - loss: 0.5577 - accuracy: 0.7297 - val_loss: 0.5218 - val_accuracy: 0.7450\n",
      "\n",
      "Epoch 00026: val_accuracy improved from 0.73286 to 0.74496, saving model to modelo_perro_gato.hdf5\n",
      "Epoch 27/100\n",
      "62/62 [==============================] - 50s 810ms/step - loss: 0.5265 - accuracy: 0.7327 - val_loss: 0.5421 - val_accuracy: 0.7238\n",
      "\n",
      "Epoch 00027: val_accuracy did not improve from 0.74496\n",
      "Epoch 28/100\n",
      "62/62 [==============================] - 50s 800ms/step - loss: 0.5270 - accuracy: 0.7439 - val_loss: 0.5154 - val_accuracy: 0.7440\n",
      "\n",
      "Epoch 00028: val_accuracy did not improve from 0.74496\n",
      "Epoch 29/100\n",
      "62/62 [==============================] - 50s 799ms/step - loss: 0.5197 - accuracy: 0.7388 - val_loss: 0.4960 - val_accuracy: 0.7601\n",
      "\n",
      "Epoch 00029: val_accuracy improved from 0.74496 to 0.76008, saving model to modelo_perro_gato.hdf5\n",
      "Epoch 30/100\n",
      "62/62 [==============================] - 49s 796ms/step - loss: 0.5131 - accuracy: 0.7495 - val_loss: 0.4873 - val_accuracy: 0.7631\n",
      "\n",
      "Epoch 00030: val_accuracy improved from 0.76008 to 0.76310, saving model to modelo_perro_gato.hdf5\n",
      "Epoch 31/100\n",
      "62/62 [==============================] - 50s 801ms/step - loss: 0.5351 - accuracy: 0.7454 - val_loss: 0.4861 - val_accuracy: 0.7581\n",
      "\n",
      "Epoch 00031: val_accuracy did not improve from 0.76310\n",
      "Epoch 32/100\n",
      "62/62 [==============================] - 50s 806ms/step - loss: 0.5023 - accuracy: 0.7652 - val_loss: 0.4796 - val_accuracy: 0.7863\n",
      "\n",
      "Epoch 00032: val_accuracy improved from 0.76310 to 0.78629, saving model to modelo_perro_gato.hdf5\n",
      "Epoch 33/100\n",
      "62/62 [==============================] - 50s 810ms/step - loss: 0.5101 - accuracy: 0.7602 - val_loss: 0.5426 - val_accuracy: 0.7268\n",
      "\n",
      "Epoch 00033: val_accuracy did not improve from 0.78629\n",
      "Epoch 34/100\n",
      "62/62 [==============================] - 50s 801ms/step - loss: 0.5065 - accuracy: 0.7449 - val_loss: 0.4713 - val_accuracy: 0.7812\n",
      "\n",
      "Epoch 00034: val_accuracy did not improve from 0.78629\n",
      "Epoch 35/100\n",
      "62/62 [==============================] - 50s 798ms/step - loss: 0.5001 - accuracy: 0.7556 - val_loss: 0.4812 - val_accuracy: 0.7671\n",
      "\n",
      "Epoch 00035: val_accuracy did not improve from 0.78629\n",
      "Epoch 36/100\n",
      "62/62 [==============================] - 50s 805ms/step - loss: 0.4944 - accuracy: 0.7586 - val_loss: 0.4642 - val_accuracy: 0.7742\n",
      "\n",
      "Epoch 00036: val_accuracy did not improve from 0.78629\n",
      "Epoch 37/100\n",
      "62/62 [==============================] - 50s 803ms/step - loss: 0.4887 - accuracy: 0.7622 - val_loss: 0.4660 - val_accuracy: 0.7792\n",
      "\n",
      "Epoch 00037: val_accuracy did not improve from 0.78629\n",
      "Epoch 38/100\n",
      "62/62 [==============================] - 50s 810ms/step - loss: 0.4781 - accuracy: 0.7693 - val_loss: 0.5375 - val_accuracy: 0.7288\n",
      "\n",
      "Epoch 00038: val_accuracy did not improve from 0.78629\n",
      "Epoch 39/100\n",
      "62/62 [==============================] - 49s 794ms/step - loss: 0.4907 - accuracy: 0.7683 - val_loss: 0.4689 - val_accuracy: 0.7772\n",
      "\n",
      "Epoch 00039: val_accuracy did not improve from 0.78629\n",
      "Epoch 40/100\n",
      "62/62 [==============================] - 50s 804ms/step - loss: 0.4613 - accuracy: 0.7805 - val_loss: 0.5348 - val_accuracy: 0.7490\n",
      "\n",
      "Epoch 00040: val_accuracy did not improve from 0.78629\n",
      "Epoch 41/100\n",
      "62/62 [==============================] - 50s 801ms/step - loss: 0.4815 - accuracy: 0.7642 - val_loss: 0.4674 - val_accuracy: 0.7671\n",
      "\n",
      "Epoch 00041: val_accuracy did not improve from 0.78629\n",
      "Epoch 42/100\n",
      "62/62 [==============================] - 50s 805ms/step - loss: 0.4458 - accuracy: 0.8034 - val_loss: 0.4690 - val_accuracy: 0.7944\n",
      "\n",
      "Epoch 00042: val_accuracy improved from 0.78629 to 0.79435, saving model to modelo_perro_gato.hdf5\n",
      "Epoch 43/100\n",
      "62/62 [==============================] - 50s 797ms/step - loss: 0.4523 - accuracy: 0.7917 - val_loss: 0.4501 - val_accuracy: 0.7873\n",
      "\n",
      "Epoch 00043: val_accuracy did not improve from 0.79435\n",
      "Epoch 44/100\n",
      "62/62 [==============================] - 50s 811ms/step - loss: 0.4572 - accuracy: 0.7922 - val_loss: 0.4350 - val_accuracy: 0.7964\n",
      "\n",
      "Epoch 00044: val_accuracy improved from 0.79435 to 0.79637, saving model to modelo_perro_gato.hdf5\n",
      "Epoch 45/100\n",
      "62/62 [==============================] - 50s 806ms/step - loss: 0.4635 - accuracy: 0.7856 - val_loss: 0.4744 - val_accuracy: 0.7742\n",
      "\n",
      "Epoch 00045: val_accuracy did not improve from 0.79637\n",
      "Epoch 46/100\n",
      "62/62 [==============================] - 50s 812ms/step - loss: 0.4520 - accuracy: 0.7957 - val_loss: 0.4694 - val_accuracy: 0.7762\n",
      "\n",
      "Epoch 00046: val_accuracy did not improve from 0.79637\n",
      "Epoch 47/100\n",
      "62/62 [==============================] - 50s 810ms/step - loss: 0.4532 - accuracy: 0.7952 - val_loss: 0.4486 - val_accuracy: 0.7883\n",
      "\n",
      "Epoch 00047: val_accuracy did not improve from 0.79637\n",
      "Epoch 48/100\n",
      "62/62 [==============================] - 50s 812ms/step - loss: 0.4414 - accuracy: 0.8018 - val_loss: 0.4354 - val_accuracy: 0.7903\n",
      "\n",
      "Epoch 00048: val_accuracy did not improve from 0.79637\n",
      "Epoch 49/100\n",
      "62/62 [==============================] - 51s 828ms/step - loss: 0.4416 - accuracy: 0.7891 - val_loss: 0.4534 - val_accuracy: 0.7853\n",
      "\n",
      "Epoch 00049: val_accuracy did not improve from 0.79637\n",
      "Epoch 50/100\n",
      "62/62 [==============================] - 51s 813ms/step - loss: 0.4120 - accuracy: 0.8130 - val_loss: 0.5395 - val_accuracy: 0.7298\n",
      "\n",
      "Epoch 00050: val_accuracy did not improve from 0.79637\n",
      "Epoch 51/100\n",
      "62/62 [==============================] - 50s 808ms/step - loss: 0.4388 - accuracy: 0.7967 - val_loss: 0.4340 - val_accuracy: 0.7974\n",
      "\n",
      "Epoch 00051: val_accuracy improved from 0.79637 to 0.79738, saving model to modelo_perro_gato.hdf5\n",
      "Epoch 52/100\n",
      "62/62 [==============================] - 50s 803ms/step - loss: 0.4254 - accuracy: 0.8115 - val_loss: 0.4450 - val_accuracy: 0.7933\n",
      "\n",
      "Epoch 00052: val_accuracy did not improve from 0.79738\n",
      "Epoch 53/100\n",
      "62/62 [==============================] - 50s 805ms/step - loss: 0.4173 - accuracy: 0.8166 - val_loss: 0.4249 - val_accuracy: 0.8095\n",
      "\n",
      "Epoch 00053: val_accuracy improved from 0.79738 to 0.80948, saving model to modelo_perro_gato.hdf5\n",
      "Epoch 54/100\n",
      "62/62 [==============================] - 50s 803ms/step - loss: 0.4506 - accuracy: 0.7876 - val_loss: 0.4326 - val_accuracy: 0.8054\n",
      "\n",
      "Epoch 00054: val_accuracy did not improve from 0.80948\n",
      "Epoch 55/100\n",
      "62/62 [==============================] - 51s 816ms/step - loss: 0.4183 - accuracy: 0.8074 - val_loss: 0.4302 - val_accuracy: 0.8014\n",
      "\n",
      "Epoch 00055: val_accuracy did not improve from 0.80948\n",
      "Epoch 56/100\n",
      "62/62 [==============================] - 50s 812ms/step - loss: 0.4136 - accuracy: 0.8216 - val_loss: 0.4146 - val_accuracy: 0.8085\n",
      "\n",
      "Epoch 00056: val_accuracy did not improve from 0.80948\n",
      "Epoch 57/100\n",
      "62/62 [==============================] - 50s 810ms/step - loss: 0.4076 - accuracy: 0.8206 - val_loss: 0.4475 - val_accuracy: 0.8034\n",
      "\n",
      "Epoch 00057: val_accuracy did not improve from 0.80948\n",
      "Epoch 58/100\n",
      "62/62 [==============================] - 50s 799ms/step - loss: 0.3968 - accuracy: 0.8227 - val_loss: 0.4404 - val_accuracy: 0.8024\n",
      "\n",
      "Epoch 00058: val_accuracy did not improve from 0.80948\n",
      "Epoch 59/100\n",
      "62/62 [==============================] - 50s 798ms/step - loss: 0.4018 - accuracy: 0.8186 - val_loss: 0.4417 - val_accuracy: 0.7933\n",
      "\n",
      "Epoch 00059: val_accuracy did not improve from 0.80948\n",
      "Epoch 60/100\n",
      "62/62 [==============================] - 50s 796ms/step - loss: 0.4030 - accuracy: 0.8150 - val_loss: 0.4195 - val_accuracy: 0.8004\n",
      "\n",
      "Epoch 00060: val_accuracy did not improve from 0.80948\n",
      "Epoch 61/100\n",
      "62/62 [==============================] - 50s 803ms/step - loss: 0.3871 - accuracy: 0.8206 - val_loss: 0.4351 - val_accuracy: 0.8145\n",
      "\n",
      "Epoch 00061: val_accuracy improved from 0.80948 to 0.81452, saving model to modelo_perro_gato.hdf5\n",
      "Epoch 62/100\n",
      "62/62 [==============================] - 50s 801ms/step - loss: 0.3990 - accuracy: 0.8191 - val_loss: 0.4661 - val_accuracy: 0.7883\n",
      "\n",
      "Epoch 00062: val_accuracy did not improve from 0.81452\n",
      "Epoch 63/100\n",
      "62/62 [==============================] - 50s 801ms/step - loss: 0.3919 - accuracy: 0.8232 - val_loss: 0.4152 - val_accuracy: 0.8175\n",
      "\n",
      "Epoch 00063: val_accuracy improved from 0.81452 to 0.81754, saving model to modelo_perro_gato.hdf5\n",
      "Epoch 64/100\n",
      "62/62 [==============================] - 50s 807ms/step - loss: 0.3792 - accuracy: 0.8216 - val_loss: 0.4278 - val_accuracy: 0.8236\n",
      "\n",
      "Epoch 00064: val_accuracy improved from 0.81754 to 0.82359, saving model to modelo_perro_gato.hdf5\n",
      "Epoch 65/100\n",
      "62/62 [==============================] - 50s 803ms/step - loss: 0.3676 - accuracy: 0.8298 - val_loss: 0.4394 - val_accuracy: 0.8206\n",
      "\n",
      "Epoch 00065: val_accuracy did not improve from 0.82359\n",
      "Epoch 66/100\n",
      "62/62 [==============================] - 50s 806ms/step - loss: 0.3619 - accuracy: 0.8415 - val_loss: 0.4694 - val_accuracy: 0.7994\n",
      "\n",
      "Epoch 00066: val_accuracy did not improve from 0.82359\n",
      "Epoch 67/100\n",
      "62/62 [==============================] - 50s 800ms/step - loss: 0.3716 - accuracy: 0.8318 - val_loss: 0.4148 - val_accuracy: 0.8266\n",
      "\n",
      "Epoch 00067: val_accuracy improved from 0.82359 to 0.82661, saving model to modelo_perro_gato.hdf5\n",
      "Epoch 68/100\n",
      "62/62 [==============================] - 50s 813ms/step - loss: 0.3678 - accuracy: 0.8308 - val_loss: 0.4286 - val_accuracy: 0.8226\n",
      "\n",
      "Epoch 00068: val_accuracy did not improve from 0.82661\n",
      "Epoch 69/100\n",
      "62/62 [==============================] - 50s 800ms/step - loss: 0.3756 - accuracy: 0.8440 - val_loss: 0.4133 - val_accuracy: 0.8266\n",
      "\n",
      "Epoch 00069: val_accuracy did not improve from 0.82661\n",
      "Epoch 70/100\n",
      "62/62 [==============================] - 50s 801ms/step - loss: 0.3674 - accuracy: 0.8425 - val_loss: 0.4276 - val_accuracy: 0.8226\n",
      "\n",
      "Epoch 00070: val_accuracy did not improve from 0.82661\n",
      "Epoch 71/100\n",
      "62/62 [==============================] - 50s 799ms/step - loss: 0.3766 - accuracy: 0.8338 - val_loss: 0.4141 - val_accuracy: 0.8115\n",
      "\n",
      "Epoch 00071: val_accuracy did not improve from 0.82661\n",
      "Epoch 72/100\n",
      "62/62 [==============================] - 50s 809ms/step - loss: 0.3636 - accuracy: 0.8343 - val_loss: 0.4333 - val_accuracy: 0.8034\n",
      "\n",
      "Epoch 00072: val_accuracy did not improve from 0.82661\n",
      "Epoch 73/100\n",
      "62/62 [==============================] - 50s 806ms/step - loss: 0.3651 - accuracy: 0.8404 - val_loss: 0.5270 - val_accuracy: 0.7802\n",
      "\n",
      "Epoch 00073: val_accuracy did not improve from 0.82661\n",
      "Epoch 74/100\n",
      "62/62 [==============================] - 50s 808ms/step - loss: 0.3617 - accuracy: 0.8399 - val_loss: 0.4429 - val_accuracy: 0.8085\n",
      "\n",
      "Epoch 00074: val_accuracy did not improve from 0.82661\n",
      "Epoch 75/100\n",
      "62/62 [==============================] - 50s 804ms/step - loss: 0.3481 - accuracy: 0.8476 - val_loss: 0.4747 - val_accuracy: 0.8054\n",
      "\n",
      "Epoch 00075: val_accuracy did not improve from 0.82661\n",
      "Epoch 76/100\n",
      "62/62 [==============================] - 50s 810ms/step - loss: 0.3456 - accuracy: 0.8491 - val_loss: 0.3886 - val_accuracy: 0.8427\n",
      "\n",
      "Epoch 00076: val_accuracy improved from 0.82661 to 0.84274, saving model to modelo_perro_gato.hdf5\n",
      "Epoch 77/100\n",
      "62/62 [==============================] - 50s 802ms/step - loss: 0.3569 - accuracy: 0.8435 - val_loss: 0.3927 - val_accuracy: 0.8427\n",
      "\n",
      "Epoch 00077: val_accuracy did not improve from 0.84274\n",
      "Epoch 78/100\n",
      "62/62 [==============================] - 50s 801ms/step - loss: 0.3440 - accuracy: 0.8552 - val_loss: 0.3874 - val_accuracy: 0.8377\n",
      "\n",
      "Epoch 00078: val_accuracy did not improve from 0.84274\n",
      "Epoch 79/100\n",
      "62/62 [==============================] - 50s 804ms/step - loss: 0.3384 - accuracy: 0.8532 - val_loss: 0.3969 - val_accuracy: 0.8327\n",
      "\n",
      "Epoch 00079: val_accuracy did not improve from 0.84274\n",
      "Epoch 80/100\n",
      "62/62 [==============================] - 51s 818ms/step - loss: 0.3355 - accuracy: 0.8557 - val_loss: 0.4146 - val_accuracy: 0.8175\n",
      "\n",
      "Epoch 00080: val_accuracy did not improve from 0.84274\n",
      "Epoch 81/100\n",
      "62/62 [==============================] - 50s 808ms/step - loss: 0.3485 - accuracy: 0.8496 - val_loss: 0.3935 - val_accuracy: 0.8196\n",
      "\n",
      "Epoch 00081: val_accuracy did not improve from 0.84274\n",
      "Epoch 82/100\n",
      "62/62 [==============================] - 50s 811ms/step - loss: 0.3313 - accuracy: 0.8664 - val_loss: 0.4111 - val_accuracy: 0.8216\n",
      "\n",
      "Epoch 00082: val_accuracy did not improve from 0.84274\n",
      "Epoch 83/100\n",
      "62/62 [==============================] - 50s 802ms/step - loss: 0.3480 - accuracy: 0.8537 - val_loss: 0.4037 - val_accuracy: 0.8306\n",
      "\n",
      "Epoch 00083: val_accuracy did not improve from 0.84274\n",
      "Epoch 84/100\n",
      "62/62 [==============================] - 50s 804ms/step - loss: 0.3257 - accuracy: 0.8537 - val_loss: 0.3983 - val_accuracy: 0.8488\n",
      "\n",
      "Epoch 00084: val_accuracy improved from 0.84274 to 0.84879, saving model to modelo_perro_gato.hdf5\n",
      "Epoch 85/100\n",
      "62/62 [==============================] - 50s 800ms/step - loss: 0.3168 - accuracy: 0.8598 - val_loss: 0.3919 - val_accuracy: 0.8387\n",
      "\n",
      "Epoch 00085: val_accuracy did not improve from 0.84879\n",
      "Epoch 86/100\n",
      "62/62 [==============================] - 50s 799ms/step - loss: 0.3104 - accuracy: 0.8709 - val_loss: 0.3935 - val_accuracy: 0.8397\n",
      "\n",
      "Epoch 00086: val_accuracy did not improve from 0.84879\n",
      "Epoch 87/100\n",
      "62/62 [==============================] - 50s 805ms/step - loss: 0.3126 - accuracy: 0.8674 - val_loss: 0.4026 - val_accuracy: 0.8357\n",
      "\n",
      "Epoch 00087: val_accuracy did not improve from 0.84879\n",
      "Epoch 88/100\n",
      "62/62 [==============================] - 50s 804ms/step - loss: 0.3166 - accuracy: 0.8623 - val_loss: 0.4276 - val_accuracy: 0.8256\n",
      "\n",
      "Epoch 00088: val_accuracy did not improve from 0.84879\n",
      "Epoch 89/100\n",
      "62/62 [==============================] - 50s 805ms/step - loss: 0.3003 - accuracy: 0.8633 - val_loss: 0.4059 - val_accuracy: 0.8266\n",
      "\n",
      "Epoch 00089: val_accuracy did not improve from 0.84879\n",
      "Epoch 90/100\n",
      "62/62 [==============================] - 50s 802ms/step - loss: 0.3209 - accuracy: 0.8613 - val_loss: 0.4061 - val_accuracy: 0.8528\n",
      "\n",
      "Epoch 00090: val_accuracy improved from 0.84879 to 0.85282, saving model to modelo_perro_gato.hdf5\n",
      "Epoch 91/100\n",
      "62/62 [==============================] - 50s 808ms/step - loss: 0.2992 - accuracy: 0.8745 - val_loss: 0.3658 - val_accuracy: 0.8407\n",
      "\n",
      "Epoch 00091: val_accuracy did not improve from 0.85282\n",
      "Epoch 92/100\n",
      "62/62 [==============================] - 50s 803ms/step - loss: 0.3002 - accuracy: 0.8699 - val_loss: 0.3859 - val_accuracy: 0.8306\n",
      "\n",
      "Epoch 00092: val_accuracy did not improve from 0.85282\n",
      "Epoch 93/100\n",
      "62/62 [==============================] - 51s 816ms/step - loss: 0.3193 - accuracy: 0.8598 - val_loss: 0.3881 - val_accuracy: 0.8387\n",
      "\n",
      "Epoch 00093: val_accuracy did not improve from 0.85282\n",
      "Epoch 94/100\n",
      "62/62 [==============================] - 50s 808ms/step - loss: 0.3082 - accuracy: 0.8643 - val_loss: 0.3771 - val_accuracy: 0.8427\n",
      "\n",
      "Epoch 00094: val_accuracy did not improve from 0.85282\n",
      "Epoch 95/100\n",
      "62/62 [==============================] - 51s 816ms/step - loss: 0.2926 - accuracy: 0.8740 - val_loss: 0.4497 - val_accuracy: 0.8185\n",
      "\n",
      "Epoch 00095: val_accuracy did not improve from 0.85282\n",
      "Epoch 96/100\n",
      "62/62 [==============================] - 51s 826ms/step - loss: 0.2695 - accuracy: 0.8877 - val_loss: 0.3829 - val_accuracy: 0.8528\n",
      "\n",
      "Epoch 00096: val_accuracy did not improve from 0.85282\n",
      "Epoch 97/100\n",
      "62/62 [==============================] - 50s 802ms/step - loss: 0.2887 - accuracy: 0.8796 - val_loss: 0.3864 - val_accuracy: 0.8438\n",
      "\n",
      "Epoch 00097: val_accuracy did not improve from 0.85282\n",
      "Epoch 98/100\n",
      "62/62 [==============================] - 50s 799ms/step - loss: 0.2967 - accuracy: 0.8770 - val_loss: 0.3668 - val_accuracy: 0.8407\n",
      "\n",
      "Epoch 00098: val_accuracy did not improve from 0.85282\n",
      "Epoch 99/100\n",
      "62/62 [==============================] - 51s 814ms/step - loss: 0.2851 - accuracy: 0.8811 - val_loss: 0.3972 - val_accuracy: 0.8417\n",
      "\n",
      "Epoch 00099: val_accuracy did not improve from 0.85282\n",
      "Epoch 100/100\n",
      "62/62 [==============================] - 50s 805ms/step - loss: 0.2757 - accuracy: 0.8836 - val_loss: 0.3931 - val_accuracy: 0.8256\n",
      "\n",
      "Epoch 00100: val_accuracy did not improve from 0.85282\n"
     ]
    }
   ],
   "source": [
    "hist = model.fit(train_generator, steps_per_epoch=2000//32,\n",
    "                epochs=100,\n",
    "                validation_data=validation_generator,\n",
    "                validation_steps= 1000//32,\n",
    "                callbacks=[checkpoint])"
   ]
  },
  {
   "cell_type": "code",
   "execution_count": 9,
   "id": "979d95a0",
   "metadata": {
    "execution": {
     "iopub.execute_input": "2022-06-06T14:28:58.543014Z",
     "iopub.status.busy": "2022-06-06T14:28:58.541460Z",
     "iopub.status.idle": "2022-06-06T14:28:58.820271Z",
     "shell.execute_reply": "2022-06-06T14:28:58.819233Z"
    },
    "papermill": {
     "duration": 0.602572,
     "end_time": "2022-06-06T14:28:58.822097",
     "exception": false,
     "start_time": "2022-06-06T14:28:58.219525",
     "status": "completed"
    },
    "tags": []
   },
   "outputs": [
    {
     "data": {
      "image/png": "[encoded data removed]",
      "text/plain": [
       "<Figure size 432x288 with 1 Axes>"
      ]
     },
     "metadata": {
      "needs_background": "light"
     },
     "output_type": "display_data"
    }
   ],
   "source": [
    "import matplotlib.pyplot as plt\n",
    "plt.plot(hist.history['accuracy'], label='Train')\n",
    "plt.plot(hist.history['val_accuracy'], label='Val')\n",
    "plt.legend()\n",
    "plt.show()"
   ]
  },
  {
   "cell_type": "code",
   "execution_count": 10,
   "id": "d1b28106",
   "metadata": {
    "execution": {
     "iopub.execute_input": "2022-06-06T14:28:59.531707Z",
     "iopub.status.busy": "2022-06-06T14:28:59.531326Z",
     "iopub.status.idle": "2022-06-06T14:28:59.642844Z",
     "shell.execute_reply": "2022-06-06T14:28:59.641947Z"
    },
    "papermill": {
     "duration": 0.502167,
     "end_time": "2022-06-06T14:28:59.644994",
     "exception": false,
     "start_time": "2022-06-06T14:28:59.142827",
     "status": "completed"
    },
    "tags": []
   },
   "outputs": [
    {
     "name": "stdout",
     "output_type": "stream",
     "text": [
      "Found 1000 images belonging to 2 classes.\n"
     ]
    }
   ],
   "source": [
    "test_generator= test_datagen.flow_from_directory('../input/cnn-data-sources/cats_and_dogs/validation',\n",
    "                                 target_size=(150,150),\n",
    "                                 batch_size=32,\n",
    "                                 class_mode='binary')"
   ]
  },
  {
   "cell_type": "code",
   "execution_count": 11,
   "id": "1e10c3e8",
   "metadata": {
    "execution": {
     "iopub.execute_input": "2022-06-06T14:29:00.283693Z",
     "iopub.status.busy": "2022-06-06T14:29:00.283326Z",
     "iopub.status.idle": "2022-06-06T14:29:00.287844Z",
     "shell.execute_reply": "2022-06-06T14:29:00.286917Z"
    },
    "papermill": {
     "duration": 0.32579,
     "end_time": "2022-06-06T14:29:00.289680",
     "exception": false,
     "start_time": "2022-06-06T14:28:59.963890",
     "status": "completed"
    },
    "tags": []
   },
   "outputs": [],
   "source": [
    "model2 =model"
   ]
  },
  {
   "cell_type": "code",
   "execution_count": 12,
   "id": "f44bfda6",
   "metadata": {
    "execution": {
     "iopub.execute_input": "2022-06-06T14:29:00.998317Z",
     "iopub.status.busy": "2022-06-06T14:29:00.997952Z",
     "iopub.status.idle": "2022-06-06T14:29:01.033074Z",
     "shell.execute_reply": "2022-06-06T14:29:01.032117Z"
    },
    "papermill": {
     "duration": 0.428928,
     "end_time": "2022-06-06T14:29:01.037605",
     "exception": false,
     "start_time": "2022-06-06T14:29:00.608677",
     "status": "completed"
    },
    "tags": []
   },
   "outputs": [],
   "source": [
    "model2.load_weights('./modelo_perro_gato.hdf5')"
   ]
  },
  {
   "cell_type": "code",
   "execution_count": 13,
   "id": "6d41bfc7",
   "metadata": {
    "execution": {
     "iopub.execute_input": "2022-06-06T14:29:01.682286Z",
     "iopub.status.busy": "2022-06-06T14:29:01.681451Z",
     "iopub.status.idle": "2022-06-06T14:29:08.694874Z",
     "shell.execute_reply": "2022-06-06T14:29:08.693869Z"
    },
    "papermill": {
     "duration": 7.340624,
     "end_time": "2022-06-06T14:29:08.696939",
     "exception": false,
     "start_time": "2022-06-06T14:29:01.356315",
     "status": "completed"
    },
    "tags": []
   },
   "outputs": [
    {
     "name": "stdout",
     "output_type": "stream",
     "text": [
      "32/32 [==============================] - 7s 210ms/step - loss: 0.4040 - accuracy: 0.8540\n"
     ]
    },
    {
     "data": {
      "text/plain": [
       "[0.4040195941925049, 0.8539999723434448]"
      ]
     },
     "execution_count": 13,
     "metadata": {},
     "output_type": "execute_result"
    }
   ],
   "source": [
    "model2.evaluate(test_generator)"
   ]
  }
 ],
 "metadata": {
  "kernelspec": {
   "display_name": "Python 3",
   "language": "python",
   "name": "python3"
  },
  "language_info": {
   "codemirror_mode": {
    "name": "ipython",
    "version": 3
   },
   "file_extension": ".py",
   "mimetype": "text/x-python",
   "name": "python",
   "nbconvert_exporter": "python",
   "pygments_lexer": "ipython3",
   "version": "3.7.12"
  },
  "papermill": {
   "default_parameters": {},
   "duration": 7692.70139,
   "end_time": "2022-06-06T14:29:12.354711",
   "environment_variables": {},
   "exception": null,
   "input_path": "__notebook__.ipynb",
   "output_path": "__notebook__.ipynb",
   "parameters": {},
   "start_time": "2022-06-06T12:20:59.653321",
   "version": "2.3.4"
  }
 },
 "nbformat": 4,
 "nbformat_minor": 5
}
